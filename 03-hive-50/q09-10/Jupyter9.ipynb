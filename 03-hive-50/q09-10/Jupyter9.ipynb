{
 "cells": [
  {
   "cell_type": "code",
   "execution_count": 1,
   "metadata": {},
   "outputs": [],
   "source": [
    "%load_ext bigdata\n",
    "%hive_start\n",
    "%timeout 300"
   ]
  },
  {
   "cell_type": "code",
   "execution_count": 2,
   "metadata": {},
   "outputs": [
    {
     "name": "stdout",
     "output_type": "stream",
     "text": [
      "mkdir: `/tmp/drivers': File exists\n"
     ]
    }
   ],
   "source": [
    "!hdfs dfs -mkdir /tmp/drivers"
   ]
  },
  {
   "cell_type": "code",
   "execution_count": 3,
   "metadata": {},
   "outputs": [
    {
     "name": "stdout",
     "output_type": "stream",
     "text": [
      "ls: `/tmp/drivers/*': No such file or directory\n"
     ]
    }
   ],
   "source": [
    "!hdfs dfs -ls /tmp/drivers/*"
   ]
  },
  {
   "cell_type": "code",
   "execution_count": 4,
   "metadata": {},
   "outputs": [
    {
     "name": "stdout",
     "output_type": "stream",
     "text": [
      "tail: `/tmp/drivers/tbl0.csv': No such file or directory\n",
      "tail: `/tmp/drivers/tbl1.csv': No such file or directory\n"
     ]
    }
   ],
   "source": [
    "!hdfs dfs -tail /tmp/drivers/tbl0.csv\n",
    "!hdfs dfs -tail /tmp/drivers/tbl1.csv"
   ]
  },
  {
   "cell_type": "code",
   "execution_count": 5,
   "metadata": {},
   "outputs": [
    {
     "name": "stdout",
     "output_type": "stream",
     "text": [
      "DROP TABLE IF EXISTS tbl0;\n",
      "OK\n",
      "Time taken: 12.521 seconds\n",
      "CREATE TABLE tbl0 (\n",
      "    c1 INT,\n",
      "    c2 STRING,\n",
      "    c3 INT,\n",
      "    c4 DATE,\n",
      "    c5 ARRAY<CHAR(1)>, \n",
      "    c6 MAP<STRING, INT>\n",
      ")\n",
      "ROW FORMAT DELIMITED \n",
      "FIELDS TERMINATED BY ','\n",
      "COLLECTION ITEMS TERMINATED BY ':'\n",
      "MAP KEYS TERMINATED BY '#'\n",
      "LINES TERMINATED BY '\\n';\n",
      "OK\n",
      "Time taken: 3.005 seconds\n",
      "LOAD DATA LOCAL INPATH 'tbl0.csv' INTO TABLE tbl0;\n",
      "Loading data to table default.tbl0\n",
      "OK\n",
      "Time taken: 4.185 seconds\n",
      "--\n",
      "DROP TABLE IF EXISTS tbl1;\n",
      "OK\n",
      "Time taken: 0.014 seconds\n",
      "CREATE TABLE tbl1 (\n",
      "    c1 INT,\n",
      "    c2 INT,\n",
      "    c3 STRING,\n",
      "    c4 MAP<STRING, INT>\n",
      ")\n",
      "ROW FORMAT DELIMITED \n",
      "FIELDS TERMINATED BY ','\n",
      "COLLECTION ITEMS TERMINATED BY ':'\n",
      "MAP KEYS TERMINATED BY '#'\n",
      "LINES TERMINATED BY '\\n';\n",
      "OK\n",
      "Time taken: 0.14 seconds\n",
      "LOAD DATA LOCAL INPATH 'tbl1.csv' INTO TABLE tbl1; \n",
      "Loading data to table default.tbl1\n",
      "OK\n",
      "Time taken: 1.344 seconds\n"
     ]
    }
   ],
   "source": [
    "%%hive\n",
    "DROP TABLE IF EXISTS tbl0;\n",
    "CREATE TABLE tbl0 (\n",
    "    c1 INT,\n",
    "    c2 STRING,\n",
    "    c3 INT,\n",
    "    c4 DATE,\n",
    "    c5 ARRAY<CHAR(1)>, \n",
    "    c6 MAP<STRING, INT>\n",
    ")\n",
    "ROW FORMAT DELIMITED \n",
    "FIELDS TERMINATED BY ','\n",
    "COLLECTION ITEMS TERMINATED BY ':'\n",
    "MAP KEYS TERMINATED BY '#'\n",
    "LINES TERMINATED BY '\\n';\n",
    "LOAD DATA LOCAL INPATH 'tbl0.csv' INTO TABLE tbl0;\n",
    "--\n",
    "DROP TABLE IF EXISTS tbl1;\n",
    "CREATE TABLE tbl1 (\n",
    "    c1 INT,\n",
    "    c2 INT,\n",
    "    c3 STRING,\n",
    "    c4 MAP<STRING, INT>\n",
    ")\n",
    "ROW FORMAT DELIMITED \n",
    "FIELDS TERMINATED BY ','\n",
    "COLLECTION ITEMS TERMINATED BY ':'\n",
    "MAP KEYS TERMINATED BY '#'\n",
    "LINES TERMINATED BY '\\n';\n",
    "LOAD DATA LOCAL INPATH 'tbl1.csv' INTO TABLE tbl1; "
   ]
  },
  {
   "cell_type": "code",
   "execution_count": 7,
   "metadata": {},
   "outputs": [
    {
     "name": "stdout",
     "output_type": "stream",
     "text": [
      "SELECT * FROM tbl0;\n",
      "OK\n",
      "1\tD\t4\t2016-06-25\t[\"a\",\"e\",\"c\",\"d\"]\t{\"bb\":10,\"dd\":20,\"cc\":40}\n",
      "2\tC\t4\t2015-05-14\t[\"a\",\"c\"]\t{\"dd\":40,\"bb\":20,\"cc\":10}\n",
      "3\tD\t6\t2014-12-26\t[\"b\",\"d\"]\t{\"aa\":10,\"bb\":40}\n",
      "4\tD\t5\t2016-06-25\t[\"a\",\"c\",\"e\",\"b\",\"d\"]\t{\"bb\":40,\"dd\":20,\"aa\":10,\"cc\":30}\n",
      "5\tC\t7\t2016-05-23\t[\"d\",\"e\",\"c\"]\t{\"cc\":10,\"aa\":20}\n",
      "6\tA\t2\t2018-06-14\t[\"a\",\"d\"]\t{\"aa\":20}\n",
      "7\tB\t3\t2014-12-22\t[\"a\",\"e\",\"d\"]\t{\"cc\":20}\n",
      "8\tC\t6\t2015-08-20\t[\"d\",\"a\",\"c\",\"e\"]\t{\"cc\":10,\"aa\":20}\n",
      "9\tB\t3\t2017-12-08\t[\"b\",\"a\",\"c\",\"e\"]\t{\"cc\":40,\"dd\":10,\"aa\":30,\"bb\":20}\n",
      "10\tB\t7\t2015-07-28\t[\"c\",\"d\",\"e\",\"a\",\"b\"]\t{\"aa\":10,\"dd\":40,\"cc\":30}\n",
      "Time taken: 0.153 seconds, Fetched: 10 row(s)\n",
      "SELECT * FROM tbl1;\n",
      "OK\n",
      "1\t7\tbb\t{\"A\":0,\"B\":4,\"C\":1,\"D\":3,\"E\":5}\n",
      "2\t13\tCc\t{\"A\":4,\"B\":1,\"C\":0,\"D\":5,\"E\":2}\n",
      "3\t11\tdD\t{\"A\":5,\"B\":4,\"C\":3,\"D\":1,\"E\":0}\n",
      "4\t3\tBB\t{\"A\":2,\"B\":4,\"C\":3,\"D\":5,\"E\":1}\n",
      "5\t14\tcc\t{\"A\":4,\"B\":0,\"C\":2,\"D\":5,\"E\":3}\n",
      "6\t8\tcC\t{\"A\":4,\"B\":5,\"C\":1,\"D\":2,\"E\":3}\n",
      "7\t2\tDD\t{\"A\":0,\"B\":5,\"C\":2,\"D\":4,\"E\":3}\n",
      "8\t6\tdd\t{\"A\":4,\"B\":2,\"C\":5,\"D\":3,\"E\":0}\n",
      "9\t9\taa\t{\"A\":1,\"B\":4,\"C\":2,\"D\":5,\"E\":3}\n",
      "10\t4\tBb\t{\"A\":2,\"B\":3,\"C\":4,\"D\":1,\"E\":0}\n",
      "Time taken: 0.185 seconds, Fetched: 10 row(s)\n"
     ]
    }
   ],
   "source": [
    "%%hive\n",
    "SELECT * FROM tbl0;\n",
    "SELECT * FROM tbl1;"
   ]
  },
  {
   "cell_type": "code",
   "execution_count": 8,
   "metadata": {},
   "outputs": [
    {
     "name": "stdout",
     "output_type": "stream",
     "text": [
      "SELECT\n",
      "    t1.c1,\n",
      "    t1.c2,\n",
      "    t2.c4\n",
      "FROM\n",
      "    tbl0\n",
      "    t1\n",
      "JOIN (\n",
      "    SELECT\n",
      "        c1,\n",
      "        c4\n",
      "    FROM\n",
      "        tbl1\n",
      "    ) t2\n",
      "ON\n",
      "    (t1.c1 = t2.c1  );\n",
      "WARNING: Hive-on-MR is deprecated in Hive 2 and may not be available in the future versions. Consider using a different execution engine (i.e. spark, tez) or using Hive 1.X releases.\n",
      "Query ID = root_20200208224833_c752fbdb-e20d-4d57-b7bb-d4ffa0c769c6\n",
      "Total jobs = 1\n",
      "SLF4J: Class path contains multiple SLF4J bindings.\n",
      "SLF4J: Found binding in [jar:file:/usr/local/hive/lib/log4j-slf4j-impl-2.6.2.jar!/org/slf4j/impl/StaticLoggerBinder.class]\n",
      "SLF4J: Found binding in [jar:file:/usr/local/hadoop/share/hadoop/common/lib/slf4j-log4j12-1.7.10.jar!/org/slf4j/impl/StaticLoggerBinder.class]\n",
      "SLF4J: See http://www.slf4j.org/codes.html#multiple_bindings for an explanation.\n",
      "SLF4J: Actual binding is of type [org.apache.logging.slf4j.Log4jLoggerFactory]\n",
      "2020-02-08 22:48:46\tStarting to launch local task to process map join;\tmaximum memory = 477626368\n",
      "2020-02-08 22:48:49\tDump the side-table for tag: 1 with group count: 10 into file: file:/tmp/root/4518d040-67b6-4730-82dc-1e83423e3bd6/hive_2020-02-08_22-48-33_521_6526420827255028709-1/-local-10004/HashTable-Stage-3/MapJoin-mapfile01--.hashtable\n",
      "2020-02-08 22:48:49\tUploaded 1 File to: file:/tmp/root/4518d040-67b6-4730-82dc-1e83423e3bd6/hive_2020-02-08_22-48-33_521_6526420827255028709-1/-local-10004/HashTable-Stage-3/MapJoin-mapfile01--.hashtable (673 bytes)\n",
      "2020-02-08 22:48:49\tEnd of local task; Time Taken: 3.363 sec.\n",
      "Execution completed successfully\n",
      "MapredLocal task succeeded\n",
      "Launching Job 1 out of 1\n",
      "Number of reduce tasks is set to 0 since there's no reduce operator\n",
      "Starting Job = job_1581201584985_0001, Tracking URL = http://7c90dae83f58:8088/proxy/application_1581201584985_0001/\n",
      "Kill Command = /usr/local/hadoop/bin/hadoop job  -kill job_1581201584985_0001\n",
      "Hadoop job information for Stage-3: number of mappers: 1; number of reducers: 0\n",
      "2020-02-08 22:49:07,460 Stage-3 map = 0%,  reduce = 0%\n",
      "2020-02-08 22:49:21,109 Stage-3 map = 100%,  reduce = 0%, Cumulative CPU 3.64 sec\n",
      "MapReduce Total cumulative CPU time: 3 seconds 640 msec\n",
      "Ended Job = job_1581201584985_0001\n",
      "MapReduce Jobs Launched: \n",
      "Stage-Stage-3: Map: 1   Cumulative CPU: 3.64 sec   HDFS Read: 7522 HDFS Write: 448 SUCCESS\n",
      "Total MapReduce CPU Time Spent: 3 seconds 640 msec\n",
      "OK\n",
      "1\tD\t{\"A\":0,\"B\":4,\"C\":1,\"D\":3,\"E\":5}\n",
      "2\tC\t{\"A\":4,\"B\":1,\"C\":0,\"D\":5,\"E\":2}\n",
      "3\tD\t{\"A\":5,\"B\":4,\"C\":3,\"D\":1,\"E\":0}\n",
      "4\tD\t{\"A\":2,\"B\":4,\"C\":3,\"D\":5,\"E\":1}\n",
      "5\tC\t{\"A\":4,\"B\":0,\"C\":2,\"D\":5,\"E\":3}\n",
      "6\tA\t{\"A\":4,\"B\":5,\"C\":1,\"D\":2,\"E\":3}\n",
      "7\tB\t{\"A\":0,\"B\":5,\"C\":2,\"D\":4,\"E\":3}\n",
      "8\tC\t{\"A\":4,\"B\":2,\"C\":5,\"D\":3,\"E\":0}\n",
      "9\tB\t{\"A\":1,\"B\":4,\"C\":2,\"D\":5,\"E\":3}\n",
      "10\tB\t{\"A\":2,\"B\":3,\"C\":4,\"D\":1,\"E\":0}\n",
      "Time taken: 49.947 seconds, Fetched: 10 row(s)\n"
     ]
    }
   ],
   "source": [
    "%%hive\n",
    "SELECT\n",
    "    t1.c1,\n",
    "    t1.c2,\n",
    "    t2.c4\n",
    "FROM\n",
    "    tbl0\n",
    "    t1\n",
    "JOIN (\n",
    "    SELECT\n",
    "        c1,\n",
    "        c4\n",
    "    FROM\n",
    "        tbl1\n",
    "    ) t2\n",
    "ON\n",
    "    (t1.c1 = t2.c1);\n",
    "    \n",
    "INSERT OVERWRITE LOCAL DIRECTORY 'output'\n",
    "ROW FORMAT DELIMITED FIELDS TERMINATED BY ','\n",
    "SELECT tbl0.c1, tbl0.c2, tbl1.c4[tbl0.c2]\n",
    "FROM tbl0, tbl1\n",
    "WHERE (tbl0.c1=tbl1.c1);"
   ]
  },
  {
   "cell_type": "code",
   "execution_count": 56,
   "metadata": {},
   "outputs": [
    {
     "name": "stdout",
     "output_type": "stream",
     "text": [
      "--SELECT\n",
      "  --  tbl0.c1,\n",
      "    --tbl0.c2,\n",
      "    --tbl1.c4['Key']\n",
      "--FROM\n",
      "  --  tbl0,\n",
      "    --tbl1\n",
      "--WHERE\n",
      "    --tbl1.c4['key']='D';\n",
      "    --(tbl0.c1 = tbl1.c1) and (tbl1.c4['key']='D');\n",
      "  --  tbl0.c1 = tbl1.c1 and tbl0.c2=tbl1.c4['key'];\n",
      "--SELECT tbl0.c1, tbl0.c2, tbl1.c4[tbl0.c2]\n",
      "--FROM tbl0, tbl1\n",
      "--WHERE (tbl0.c1=tbl1.c1) and (tbl1.c4['A']=0);\n",
      "--WHERE (tbl0.c1=tbl1.c1);\n",
      "INSERT OVERWRITE LOCAL DIRECTORY 'output'\n",
      "ROW FORMAT DELIMITED FIELDS TERMINATED BY ','\n",
      "SELECT tbl0.c1, tbl0.c2, tbl1.c4[tbl0.c2]\n",
      "FROM tbl0, tbl1\n",
      "WHERE (tbl0.c1=tbl1.c1);\n",
      "WARNING: Hive-on-MR is deprecated in Hive 2 and may not be available in the future versions. Consider using a different execution engine (i.e. spark, tez) or using Hive 1.X releases.\n",
      "Query ID = root_20200209001642_13ddd8bc-060f-4fcf-b8c4-2987f5d03894\n",
      "Total jobs = 1\n",
      "SLF4J: Class path contains multiple SLF4J bindings.\n",
      "SLF4J: Found binding in [jar:file:/usr/local/hive/lib/log4j-slf4j-impl-2.6.2.jar!/org/slf4j/impl/StaticLoggerBinder.class]\n",
      "SLF4J: Found binding in [jar:file:/usr/local/hadoop/share/hadoop/common/lib/slf4j-log4j12-1.7.10.jar!/org/slf4j/impl/StaticLoggerBinder.class]\n",
      "SLF4J: See http://www.slf4j.org/codes.html#multiple_bindings for an explanation.\n",
      "SLF4J: Actual binding is of type [org.apache.logging.slf4j.Log4jLoggerFactory]\n",
      "2020-02-09 00:16:55\tStarting to launch local task to process map join;\tmaximum memory = 477626368\n",
      "2020-02-09 00:16:59\tDump the side-table for tag: 1 with group count: 10 into file: file:/tmp/root/4518d040-67b6-4730-82dc-1e83423e3bd6/hive_2020-02-09_00-16-42_148_1217119597587977987-1/-local-10002/HashTable-Stage-3/MapJoin-mapfile161--.hashtable\n",
      "2020-02-09 00:16:59\tUploaded 1 File to: file:/tmp/root/4518d040-67b6-4730-82dc-1e83423e3bd6/hive_2020-02-09_00-16-42_148_1217119597587977987-1/-local-10002/HashTable-Stage-3/MapJoin-mapfile161--.hashtable (673 bytes)\n",
      "2020-02-09 00:16:59\tEnd of local task; Time Taken: 3.152 sec.\n",
      "Execution completed successfully\n",
      "MapredLocal task succeeded\n",
      "Launching Job 1 out of 1\n",
      "Number of reduce tasks is set to 0 since there's no reduce operator\n",
      "Starting Job = job_1581201584985_0017, Tracking URL = http://7c90dae83f58:8088/proxy/application_1581201584985_0017/\n",
      "Kill Command = /usr/local/hadoop/bin/hadoop job  -kill job_1581201584985_0017\n",
      "Hadoop job information for Stage-3: number of mappers: 1; number of reducers: 0\n",
      "2020-02-09 00:17:09,415 Stage-3 map = 0%,  reduce = 0%\n",
      "2020-02-09 00:17:18,541 Stage-3 map = 100%,  reduce = 0%, Cumulative CPU 2.37 sec\n",
      "MapReduce Total cumulative CPU time: 2 seconds 370 msec\n",
      "Ended Job = job_1581201584985_0017\n",
      "Moving data to local directory output\n",
      "MapReduce Jobs Launched: \n",
      "Stage-Stage-3: Map: 1   Cumulative CPU: 2.37 sec   HDFS Read: 7168 HDFS Write: 61 SUCCESS\n",
      "Total MapReduce CPU Time Spent: 2 seconds 370 msec\n",
      "OK\n",
      "Time taken: 38.968 seconds\n"
     ]
    }
   ],
   "source": [
    "%%hive\n",
    "--SELECT\n",
    "  --  tbl0.c1,\n",
    "    --tbl0.c2,\n",
    "    --tbl1.c4['Key']\n",
    "--FROM\n",
    "  --  tbl0,\n",
    "    --tbl1\n",
    "--WHERE\n",
    "    --tbl1.c4['key']='D';\n",
    "    --(tbl0.c1 = tbl1.c1) and (tbl1.c4['key']='D');\n",
    "  --  tbl0.c1 = tbl1.c1 and tbl0.c2=tbl1.c4['key'];\n",
    "    \n",
    "--SELECT tbl0.c1, tbl0.c2, tbl1.c4[tbl0.c2]\n",
    "--FROM tbl0, tbl1\n",
    "--WHERE (tbl0.c1=tbl1.c1) and (tbl1.c4['A']=0);\n",
    "--WHERE (tbl0.c1=tbl1.c1);\n",
    "\n",
    "INSERT OVERWRITE LOCAL DIRECTORY 'output'\n",
    "ROW FORMAT DELIMITED FIELDS TERMINATED BY ','\n",
    "SELECT tbl0.c1, tbl0.c2, tbl1.c4[tbl0.c2]\n",
    "FROM tbl0, tbl1\n",
    "WHERE (tbl0.c1=tbl1.c1);"
   ]
  },
  {
   "cell_type": "code",
   "execution_count": 160,
   "metadata": {},
   "outputs": [
    {
     "name": "stdout",
     "output_type": "stream",
     "text": [
      "ON\n",
      "    (t1.c1 = t2.c1  );\n",
      "WARNING: Hive-on-MR is deprecated in Hive 2 and may not be available in the future versions. Consider using a different execution engine (i.e. spark, tez) or using Hive 1.X releases.\n",
      "Query ID = root_20200208191822_950b3a85-d81c-4afd-b7ea-d3c5d11f7ef1\n",
      "Total jobs = 1\n",
      "SLF4J: Class path contains multiple SLF4J bindings.\n",
      "SLF4J: Found binding in [jar:file:/usr/local/hive/lib/log4j-slf4j-impl-2.6.2.jar!/org/slf4j/impl/StaticLoggerBinder.class]\n",
      "SLF4J: Found binding in [jar:file:/usr/local/hadoop/share/hadoop/common/lib/slf4j-log4j12-1.7.10.jar!/org/slf4j/impl/StaticLoggerBinder.class]\n",
      "SLF4J: See http://www.slf4j.org/codes.html#multiple_bindings for an explanation.\n",
      "SLF4J: Actual binding is of type [org.apache.logging.slf4j.Log4jLoggerFactory]\n",
      "2020-02-08 19:18:32\tStarting to launch local task to process map join;\tmaximum memory = 477626368\n",
      "2020-02-08 19:18:35\tDump the side-table for tag: 1 with group count: 10 into file: file:/tmp/root/51b149e5-d692-4c3a-8ded-97305de30c09/hive_2020-02-08_19-18-22_149_4478622126870134815-1/-local-10004/HashTable-Stage-3/MapJoin-mapfile291--.hashtable\n",
      "2020-02-08 19:18:35\tUploaded 1 File to: file:/tmp/root/51b149e5-d692-4c3a-8ded-97305de30c09/hive_2020-02-08_19-18-22_149_4478622126870134815-1/-local-10004/HashTable-Stage-3/MapJoin-mapfile291--.hashtable (673 bytes)\n",
      "2020-02-08 19:18:35\tEnd of local task; Time Taken: 3.365 sec.\n",
      "Execution completed successfully\n",
      "MapredLocal task succeeded\n",
      "Launching Job 1 out of 1\n",
      "Number of reduce tasks is set to 0 since there's no reduce operator\n",
      "Starting Job = job_1581176772105_0036, Tracking URL = http://fb9adf96af44:8088/proxy/application_1581176772105_0036/\n",
      "Kill Command = /usr/local/hadoop/bin/hadoop job  -kill job_1581176772105_0036\n",
      "Hadoop job information for Stage-3: number of mappers: 1; number of reducers: 0\n",
      "2020-02-08 19:18:48,412 Stage-3 map = 0%,  reduce = 0%\n",
      "2020-02-08 19:18:55,283 Stage-3 map = 100%,  reduce = 0%, Cumulative CPU 3.01 sec\n",
      "MapReduce Total cumulative CPU time: 3 seconds 10 msec\n",
      "Ended Job = job_1581176772105_0036\n",
      "MapReduce Jobs Launched: \n",
      "Stage-Stage-3: Map: 1   Cumulative CPU: 3.01 sec   HDFS Read: 7539 HDFS Write: 448 SUCCESS\n",
      "Total MapReduce CPU Time Spent: 3 seconds 10 msec\n",
      "OK\n",
      "1\tD\t{\"A\":0,\"B\":4,\"C\":1,\"D\":3,\"E\":5}\n",
      "2\tC\t{\"A\":4,\"B\":1,\"C\":0,\"D\":5,\"E\":2}\n",
      "3\tD\t{\"A\":5,\"B\":4,\"C\":3,\"D\":1,\"E\":0}\n",
      "4\tD\t{\"A\":2,\"B\":4,\"C\":3,\"D\":5,\"E\":1}\n",
      "5\tC\t{\"A\":4,\"B\":0,\"C\":2,\"D\":5,\"E\":3}\n",
      "6\tA\t{\"A\":4,\"B\":5,\"C\":1,\"D\":2,\"E\":3}\n",
      "7\tB\t{\"A\":0,\"B\":5,\"C\":2,\"D\":4,\"E\":3}\n",
      "8\tC\t{\"A\":4,\"B\":2,\"C\":5,\"D\":3,\"E\":0}\n",
      "9\tB\t{\"A\":1,\"B\":4,\"C\":2,\"D\":5,\"E\":3}\n",
      "10\tB\t{\"A\":2,\"B\":3,\"C\":4,\"D\":1,\"E\":0}\n",
      "Time taken: 34.236 seconds, Fetched: 10 row(s)\n",
      "SELECT  fec, word ,count(*) FROM (\n",
      "SELECT substr (c4,1,4) AS fec , word\n",
      "FROM tbl0 lateral view explode(split(c4, '\\\\:')) temp_table AS word\n"
     ]
    }
   ],
   "source": [
    "%%hive\n",
    "SELECT  fec, word ,count(*) FROM (\n",
    "SELECT substr (c4,1,4) AS fec , word\n",
    "FROM tbl0 lateral view explode(split(c4, '\\\\:')) temp_table AS word\n",
    ") x\n",
    "GROUP BY  fec ,word;"
   ]
  },
  {
   "cell_type": "code",
   "execution_count": null,
   "metadata": {},
   "outputs": [],
   "source": []
  }
 ],
 "metadata": {
  "kernelspec": {
   "display_name": "Python 3",
   "language": "python",
   "name": "python3"
  },
  "language_info": {
   "codemirror_mode": {
    "name": "ipython",
    "version": 3
   },
   "file_extension": ".py",
   "mimetype": "text/x-python",
   "name": "python",
   "nbconvert_exporter": "python",
   "pygments_lexer": "ipython3",
   "version": "3.6.8"
  }
 },
 "nbformat": 4,
 "nbformat_minor": 4
}
