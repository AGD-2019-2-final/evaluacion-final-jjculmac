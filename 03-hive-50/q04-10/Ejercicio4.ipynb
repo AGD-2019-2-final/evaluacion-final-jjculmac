{
 "cells": [
  {
   "cell_type": "code",
   "execution_count": 1,
   "metadata": {},
   "outputs": [],
   "source": [
    "%load_ext bigdata"
   ]
  },
  {
   "cell_type": "code",
   "execution_count": 2,
   "metadata": {},
   "outputs": [],
   "source": [
    "## tiempo máximo de espera de procesamiento antes de que se reporte un error por procesamiento.\n",
    "%timeout 300"
   ]
  },
  {
   "cell_type": "code",
   "execution_count": 4,
   "metadata": {},
   "outputs": [
    {
     "name": "stdout",
     "output_type": "stream",
     "text": [
      "Deleted /tmp/drivers\n",
      "-rw-r--r--   1 root supergroup        388 2020-02-06 01:17 /tmp/drivers/tbl0.csv\n",
      "-rw-r--r--   1 root supergroup        273 2020-02-06 01:17 /tmp/drivers/tbl1.csv\n"
     ]
    }
   ],
   "source": [
    "## Borra la carpeta si existe\n",
    "!hdfs dfs -rm -r -f /tmp/drivers\n",
    "\n",
    "##\n",
    "## Crea la carpeta drivers en el HDFS\n",
    "##\n",
    "!hdfs dfs -mkdir /tmp/drivers\n",
    "\n",
    "##\n",
    "## Copia los archivos al HDFS\n",
    "##\n",
    "!hdfs dfs -copyFromLocal tbl0.csv  /tmp/drivers/tbl0.csv\n",
    "!hdfs dfs -copyFromLocal tbl1.csv  /tmp/drivers/tbl1.csv\n",
    "\n",
    "##\n",
    "## Lista los archivos al HDFS para verificar\n",
    "## que los archivos fueron copiados correctamente.\n",
    "##\n",
    "!hdfs dfs -ls /tmp/drivers/*"
   ]
  },
  {
   "cell_type": "code",
   "execution_count": 5,
   "metadata": {},
   "outputs": [],
   "source": [
    "## Carga de los datos de los eventos de los conductores\n",
    "##   En el siguiente código se crea crea la tabla de eventos de los conductores en el sistema; la primera instrucción borra la tabla si ya existe. \n",
    "##   Note que se debe especificar que los campos en las filas están delimitados por comas para que Hive los importe correctamente."
   ]
  },
  {
   "cell_type": "code",
   "execution_count": 3,
   "metadata": {},
   "outputs": [
    {
     "name": "stdout",
     "output_type": "stream",
     "text": [
      "DROP TABLE IF EXISTS tbl0;\n",
      "OK\n",
      "Time taken: 10.021 seconds\n",
      "CREATE TABLE tbl0 (\n",
      "    c1 INT,\n",
      "    c2 STRING,\n",
      "    c3 INT,\n",
      "    c4 DATE,\n",
      "    c5 ARRAY<CHAR(1)>, \n",
      "    c6 MAP<STRING, INT>\n",
      ")\n",
      "ROW FORMAT DELIMITED \n",
      "FIELDS TERMINATED BY ','\n",
      "COLLECTION ITEMS TERMINATED BY ':'\n",
      "MAP KEYS TERMINATED BY '#'\n",
      "LINES TERMINATED BY '\\n';\n",
      "OK\n",
      "Time taken: 1.494 seconds\n",
      "LOAD DATA LOCAL INPATH 'tbl0.csv' INTO TABLE tbl0;\n",
      "Loading data to table default.tbl0\n",
      "OK\n",
      "Time taken: 2.778 seconds\n"
     ]
    }
   ],
   "source": [
    "%%hive\n",
    "DROP TABLE IF EXISTS tbl0;\n",
    "CREATE TABLE tbl0 (\n",
    "    c1 INT,\n",
    "    c2 STRING,\n",
    "    c3 INT,\n",
    "    c4 DATE,\n",
    "    c5 ARRAY<CHAR(1)>, \n",
    "    c6 MAP<STRING, INT>\n",
    ")\n",
    "ROW FORMAT DELIMITED \n",
    "FIELDS TERMINATED BY ','\n",
    "COLLECTION ITEMS TERMINATED BY ':'\n",
    "MAP KEYS TERMINATED BY '#'\n",
    "LINES TERMINATED BY '\\n';\n",
    "LOAD DATA LOCAL INPATH 'tbl0.csv' INTO TABLE tbl0;"
   ]
  },
  {
   "cell_type": "code",
   "execution_count": 8,
   "metadata": {},
   "outputs": [],
   "source": [
    "## Se verifican las tablas existentes en la base de datos."
   ]
  },
  {
   "cell_type": "code",
   "execution_count": 4,
   "metadata": {},
   "outputs": [
    {
     "name": "stdout",
     "output_type": "stream",
     "text": [
      "SHOW TABLES;\n",
      "OK\n",
      "tabla3\n",
      "tbl0\n",
      "Time taken: 0.104 seconds, Fetched: 2 row(s)\n"
     ]
    }
   ],
   "source": [
    "%%hive\n",
    "SHOW TABLES;"
   ]
  },
  {
   "cell_type": "code",
   "execution_count": 10,
   "metadata": {},
   "outputs": [],
   "source": [
    "## A continuación se muestra la información detallada de creación de la tabla truck_events."
   ]
  },
  {
   "cell_type": "code",
   "execution_count": 6,
   "metadata": {},
   "outputs": [
    {
     "name": "stdout",
     "output_type": "stream",
     "text": [
      "SHOW CREATE TABLE tbl0;\n",
      "OK\n",
      "CREATE TABLE `tbl0`(\n",
      "  `c1` int, \n",
      "  `c2` string, \n",
      "  `c3` int, \n",
      "  `c4` date, \n",
      "  `c5` array<char(1)>, \n",
      "  `c6` map<string,int>)\n",
      "ROW FORMAT SERDE \n",
      "  'org.apache.hadoop.hive.serde2.lazy.LazySimpleSerDe' \n",
      "WITH SERDEPROPERTIES ( \n",
      "  'colelction.delim'=':', \n",
      "  'field.delim'=',', \n",
      "  'line.delim'='\\n', \n",
      "  'mapkey.delim'='#', \n",
      "  'serialization.format'=',') \n",
      "STORED AS INPUTFORMAT \n",
      "  'org.apache.hadoop.mapred.TextInputFormat' \n",
      "OUTPUTFORMAT \n",
      "  'org.apache.hadoop.hive.ql.io.HiveIgnoreKeyTextOutputFormat'\n",
      "LOCATION\n",
      "  'hdfs://0.0.0.0:9000/user/hive/warehouse/tbl0'\n",
      "TBLPROPERTIES (\n",
      "  'transient_lastDdlTime'='1580952353')\n",
      "Time taken: 0.381 seconds, Fetched: 23 row(s)\n"
     ]
    }
   ],
   "source": [
    "%%hive\n",
    "SHOW CREATE TABLE tbl0;"
   ]
  },
  {
   "cell_type": "code",
   "execution_count": 12,
   "metadata": {},
   "outputs": [],
   "source": [
    "## También es posible visualizar los campos y su contenido con el comando DESCRIBE."
   ]
  },
  {
   "cell_type": "code",
   "execution_count": 7,
   "metadata": {},
   "outputs": [
    {
     "name": "stdout",
     "output_type": "stream",
     "text": [
      "DESCRIBE tbl0;\n",
      "OK\n",
      "c1                  \tint                 \t                    \n",
      "c2                  \tstring              \t                    \n",
      "c3                  \tint                 \t                    \n",
      "c4                  \tdate                \t                    \n",
      "c5                  \tarray<char(1)>      \t                    \n",
      "c6                  \tmap<string,int>     \t                    \n",
      "Time taken: 0.043 seconds, Fetched: 6 row(s)\n"
     ]
    }
   ],
   "source": [
    "%%hive\n",
    "DESCRIBE tbl0;"
   ]
  },
  {
   "cell_type": "code",
   "execution_count": 14,
   "metadata": {},
   "outputs": [],
   "source": [
    "## Carga de datos\n",
    "##  La carga de datos se realiza con la siguiente consulta."
   ]
  },
  {
   "cell_type": "code",
   "execution_count": 8,
   "metadata": {},
   "outputs": [
    {
     "name": "stdout",
     "output_type": "stream",
     "text": [
      "LOAD DATA INPATH '/tmp/drivers/data.tsv' OVERWRITE \n",
      "INTO TABLE tabla3;\n",
      "Loading data to table default.tabla3\n",
      "OK\n",
      "Time taken: 1.226 seconds\n",
      "--LOAD DATA LOCAL INPATH \"data.tsv\" OVERWRITE INTO TABLE tabla3;\n"
     ]
    }
   ],
   "source": [
    "%%hive\n",
    "LOAD DATA INPATH '/tmp/drivers/data.tsv' OVERWRITE \n",
    "INTO TABLE tabla3;\n",
    "--LOAD DATA LOCAL INPATH \"data.tsv\" OVERWRITE INTO TABLE tabla3;"
   ]
  },
  {
   "cell_type": "code",
   "execution_count": 16,
   "metadata": {},
   "outputs": [],
   "source": [
    "## Se verifican las propieades de la tabla después de la carga de datos."
   ]
  },
  {
   "cell_type": "code",
   "execution_count": 9,
   "metadata": {},
   "outputs": [
    {
     "name": "stdout",
     "output_type": "stream",
     "text": [
      "SHOW TBLPROPERTIES tabla3;\n",
      "OK\n",
      "numFiles\t1\n",
      "numRows\t0\n",
      "rawDataSize\t0\n",
      "totalSize\t637\n",
      "transient_lastDdlTime\t1580947227\n",
      "Time taken: 0.038 seconds, Fetched: 5 row(s)\n"
     ]
    }
   ],
   "source": [
    "%%hive\n",
    "SHOW TBLPROPERTIES tabla3;"
   ]
  },
  {
   "cell_type": "code",
   "execution_count": 10,
   "metadata": {},
   "outputs": [
    {
     "name": "stdout",
     "output_type": "stream",
     "text": [
      "SELECT f1,f2,f3\n",
      "FROM tabla3;\n",
      "OK\n",
      "B\t1999-08-28\t14\n",
      "E\t1999-12-06\t12\n",
      "E\t1993-07-21\t17\n",
      "C\t1991-02-12\t13\n",
      "E\t1995-04-25\t16\n",
      "A\t1992-08-22\t14\n",
      "B\t1999-06-11\t12\n",
      "E\t1993-01-27\t13\n",
      "E\t1999-09-10\t11\n",
      "E\t1990-05-03\t16\n",
      "E\t1994-02-14\t5\n",
      "A\t1988-04-27\t12\n",
      "A\t1990-10-06\t10\n",
      "E\t1985-02-12\t16\n",
      "E\t1998-09-14\t16\n",
      "B\t1994-08-30\t17\n",
      "A\t1997-12-15\t13\n",
      "B\t1995-08-23\t10\n",
      "B\t1998-11-22\t13\n",
      "B\t1997-04-09\t14\n",
      "E\t1993-12-27\t18\n",
      "E\t1999-01-14\t15\n",
      "A\t1992-09-19\t18\n",
      "B\t1993-03-02\t14\n",
      "B\t1999-10-21\t13\n",
      "A\t1990-08-31\t12\n",
      "C\t1994-01-25\t6\n",
      "E\t1990-02-09\t18\n",
      "A\t1990-09-26\t14\n",
      "A\t1993-05-08\t16\n",
      "B\t1995-09-06\t14\n",
      "E\t1991-02-18\t14\n",
      "A\t1993-01-11\t14\n",
      "A\t1990-07-22\t18\n",
      "C\t1994-09-09\t15\n",
      "C\t1994-07-27\t7\n",
      "D\t1990-10-10\t15\n",
      "A\t1990-09-05\t11\n",
      "B\t1991-10-01\t15\n",
      "A\t1994-10-25\t13\n",
      "Time taken: 2.389 seconds, Fetched: 40 row(s)\n"
     ]
    }
   ],
   "source": [
    "%%hive\n",
    "SELECT f1,f2,f3\n",
    "FROM tabla3;"
   ]
  },
  {
   "cell_type": "code",
   "execution_count": 29,
   "metadata": {},
   "outputs": [],
   "source": [
    "## Visualización de datos\n",
    "##   La visualización se realiza mediante consultas con SELECT."
   ]
  },
  {
   "cell_type": "code",
   "execution_count": 11,
   "metadata": {},
   "outputs": [
    {
     "name": "stdout",
     "output_type": "stream",
     "text": [
      "--Punto 1\n",
      "SELECT CONCAT (f1,',', count (f1))\n",
      "FROM tabla3\n",
      "GROUP BY f1;\n",
      "WARNING: Hive-on-MR is deprecated in Hive 2 and may not be available in the future versions. Consider using a different execution engine (i.e. spark, tez) or using Hive 1.X releases.\n",
      "Query ID = root_20200202151102_18635b51-7379-40dc-8ba6-ad5d17b351ff\n",
      "Total jobs = 1\n",
      "Launching Job 1 out of 1\n",
      "Number of reduce tasks not specified. Estimated from input data size: 1\n",
      "In order to change the average load for a reducer (in bytes):\n",
      "  set hive.exec.reducers.bytes.per.reducer=<number>\n",
      "In order to limit the maximum number of reducers:\n",
      "  set hive.exec.reducers.max=<number>\n",
      "In order to set a constant number of reducers:\n",
      "  set mapreduce.job.reduces=<number>\n",
      "Starting Job = job_1580651373362_0008, Tracking URL = http://75d445e89cd4:8088/proxy/application_1580651373362_0008/\n",
      "Kill Command = /usr/local/hadoop/bin/hadoop job  -kill job_1580651373362_0008\n",
      "Hadoop job information for Stage-1: number of mappers: 1; number of reducers: 1\n",
      "2020-02-02 15:11:21,880 Stage-1 map = 0%,  reduce = 0%\n",
      "2020-02-02 15:11:33,950 Stage-1 map = 100%,  reduce = 0%, Cumulative CPU 2.55 sec\n",
      "2020-02-02 15:11:47,002 Stage-1 map = 100%,  reduce = 100%, Cumulative CPU 8.03 sec\n",
      "MapReduce Total cumulative CPU time: 8 seconds 30 msec\n",
      "Ended Job = job_1580651373362_0008\n",
      "MapReduce Jobs Launched: \n",
      "Stage-Stage-1: Map: 1  Reduce: 1   Cumulative CPU: 8.03 sec   HDFS Read: 8998 HDFS Write: 170 SUCCESS\n",
      "Total MapReduce CPU Time Spent: 8 seconds 30 msec\n",
      "OK\n",
      "A,12\n",
      "B,10\n",
      "C,4\n",
      "D,1\n",
      "E,13\n",
      "Time taken: 45.586 seconds, Fetched: 5 row(s)\n"
     ]
    }
   ],
   "source": [
    "%%hive\n",
    "--Punto 1\n",
    "SELECT CONCAT (f1,',', count (f1))\n",
    "FROM tabla3\n",
    "GROUP BY f1;"
   ]
  },
  {
   "cell_type": "code",
   "execution_count": 11,
   "metadata": {},
   "outputs": [
    {
     "name": "stdout",
     "output_type": "stream",
     "text": [
      "--Punto 2\n",
      "--INSERT OVERWRITE DIRECTORY '/tmp/output'\n",
      "--INSERT OVERWRITE DIRECTORY '/tmp/drivers/summary'\n",
      "--INSERT OVERWRITE LOCAL DIRECTORY 'output'\n",
      "--ROW FORMAT DELIMITED FIELDS TERMINATED BY ','\n",
      "SELECT\n",
      "    CONCAT(f1,',',f2,',',f3)\n",
      "FROM (\n",
      "    SELECT f1, f2, f3 FROM tabla3 ORDER BY f1, f3, f2 asc\n",
      ") tabla5\n",
      "LIMIT 40;\n",
      "WARNING: Hive-on-MR is deprecated in Hive 2 and may not be available in the future versions. Consider using a different execution engine (i.e. spark, tez) or using Hive 1.X releases.\n",
      "Query ID = root_20200206000056_9257bb95-7991-4d2c-948b-0d0818e05066\n",
      "Total jobs = 1\n",
      "Launching Job 1 out of 1\n",
      "Number of reduce tasks determined at compile time: 1\n",
      "In order to change the average load for a reducer (in bytes):\n",
      "  set hive.exec.reducers.bytes.per.reducer=<number>\n",
      "In order to limit the maximum number of reducers:\n",
      "  set hive.exec.reducers.max=<number>\n",
      "In order to set a constant number of reducers:\n",
      "  set mapreduce.job.reduces=<number>\n",
      "Starting Job = job_1580946701849_0001, Tracking URL = http://a666d7275a3d:8088/proxy/application_1580946701849_0001/\n",
      "Kill Command = /usr/local/hadoop/bin/hadoop job  -kill job_1580946701849_0001\n",
      "Hadoop job information for Stage-1: number of mappers: 1; number of reducers: 1\n",
      "2020-02-06 00:01:13,622 Stage-1 map = 0%,  reduce = 0%\n",
      "2020-02-06 00:01:20,598 Stage-1 map = 100%,  reduce = 0%, Cumulative CPU 1.66 sec\n",
      "2020-02-06 00:01:30,768 Stage-1 map = 100%,  reduce = 100%, Cumulative CPU 4.69 sec\n",
      "MapReduce Total cumulative CPU time: 4 seconds 690 msec\n",
      "Ended Job = job_1580946701849_0001\n",
      "MapReduce Jobs Launched: \n",
      "Stage-Stage-1: Map: 1  Reduce: 1   Cumulative CPU: 4.69 sec   HDFS Read: 8480 HDFS Write: 1204 SUCCESS\n",
      "Total MapReduce CPU Time Spent: 4 seconds 690 msec\n",
      "OK\n",
      "A,1990-10-06,10\n",
      "A,1990-09-05,11\n",
      "A,1988-04-27,12\n",
      "A,1990-08-31,12\n",
      "A,1994-10-25,13\n",
      "A,1997-12-15,13\n",
      "A,1990-09-26,14\n",
      "A,1992-08-22,14\n",
      "A,1993-01-11,14\n",
      "A,1993-05-08,16\n",
      "A,1990-07-22,18\n",
      "A,1992-09-19,18\n",
      "B,1995-08-23,10\n",
      "B,1999-06-11,12\n",
      "B,1998-11-22,13\n",
      "B,1999-10-21,13\n",
      "B,1993-03-02,14\n",
      "B,1995-09-06,14\n",
      "B,1997-04-09,14\n",
      "B,1999-08-28,14\n",
      "B,1991-10-01,15\n",
      "B,1994-08-30,17\n",
      "C,1994-01-25,6\n",
      "C,1994-07-27,7\n",
      "C,1991-02-12,13\n",
      "C,1994-09-09,15\n",
      "D,1990-10-10,15\n",
      "E,1994-02-14,5\n",
      "E,1999-09-10,11\n",
      "E,1999-12-06,12\n",
      "E,1993-01-27,13\n",
      "E,1991-02-18,14\n",
      "E,1999-01-14,15\n",
      "E,1985-02-12,16\n",
      "E,1990-05-03,16\n",
      "E,1995-04-25,16\n",
      "E,1998-09-14,16\n",
      "E,1993-07-21,17\n",
      "E,1990-02-09,18\n",
      "E,1993-12-27,18\n",
      "Time taken: 36.725 seconds, Fetched: 40 row(s)\n"
     ]
    }
   ],
   "source": [
    "%%hive\n",
    "--Punto 2\n",
    "--INSERT OVERWRITE DIRECTORY '/tmp/output'\n",
    "--INSERT OVERWRITE DIRECTORY '/tmp/drivers/summary'\n",
    "\n",
    "--INSERT OVERWRITE LOCAL DIRECTORY 'output'\n",
    "--ROW FORMAT DELIMITED FIELDS TERMINATED BY ','\n",
    "SELECT\n",
    "    CONCAT(f1,',',f2,',',f3)\n",
    "FROM (\n",
    "    SELECT f1, f2, f3 FROM tabla3 ORDER BY f1, f3, f2 asc\n",
    ") tabla5\n",
    "LIMIT 40;"
   ]
  },
  {
   "cell_type": "code",
   "execution_count": 8,
   "metadata": {},
   "outputs": [
    {
     "name": "stdout",
     "output_type": "stream",
     "text": [
      "--Punto 3\n",
      "--INSERT OVERWRITE DIRECTORY '/tmp/output'\n",
      "--INSERT OVERWRITE DIRECTORY '/tmp/drivers/summary'\n",
      "INSERT OVERWRITE LOCAL DIRECTORY 'output'\n",
      "--ROW FORMAT DELIMITED FIELDS TERMINATED BY ','\n",
      "SELECT DISTINCT f3\n",
      "FROM tabla3\n",
      "ORDER BY f3 asc\n",
      "LIMIT 5;\n",
      "WARNING: Hive-on-MR is deprecated in Hive 2 and may not be available in the future versions. Consider using a different execution engine (i.e. spark, tez) or using Hive 1.X releases.\n",
      "Query ID = root_20200206012802_c8a1e375-d828-44cb-9063-cab6096d252b\n",
      "Total jobs = 2\n",
      "Launching Job 1 out of 2\n",
      "Number of reduce tasks not specified. Estimated from input data size: 1\n",
      "In order to change the average load for a reducer (in bytes):\n",
      "  set hive.exec.reducers.bytes.per.reducer=<number>\n",
      "In order to limit the maximum number of reducers:\n",
      "  set hive.exec.reducers.max=<number>\n",
      "In order to set a constant number of reducers:\n",
      "  set mapreduce.job.reduces=<number>\n",
      "Starting Job = job_1580946701849_0007, Tracking URL = http://a666d7275a3d:8088/proxy/application_1580946701849_0007/\n",
      "Kill Command = /usr/local/hadoop/bin/hadoop job  -kill job_1580946701849_0007\n",
      "Hadoop job information for Stage-1: number of mappers: 1; number of reducers: 1\n",
      "2020-02-06 01:28:15,410 Stage-1 map = 0%,  reduce = 0%\n",
      "2020-02-06 01:28:23,462 Stage-1 map = 100%,  reduce = 0%, Cumulative CPU 2.16 sec\n",
      "2020-02-06 01:28:33,429 Stage-1 map = 100%,  reduce = 100%, Cumulative CPU 3.68 sec\n",
      "MapReduce Total cumulative CPU time: 3 seconds 680 msec\n",
      "Ended Job = job_1580946701849_0007\n",
      "Launching Job 2 out of 2\n",
      "Number of reduce tasks determined at compile time: 1\n",
      "In order to change the average load for a reducer (in bytes):\n",
      "  set hive.exec.reducers.bytes.per.reducer=<number>\n",
      "In order to limit the maximum number of reducers:\n",
      "  set hive.exec.reducers.max=<number>\n",
      "In order to set a constant number of reducers:\n",
      "  set mapreduce.job.reduces=<number>\n",
      "Starting Job = job_1580946701849_0008, Tracking URL = http://a666d7275a3d:8088/proxy/application_1580946701849_0008/\n",
      "Kill Command = /usr/local/hadoop/bin/hadoop job  -kill job_1580946701849_0008\n",
      "Hadoop job information for Stage-2: number of mappers: 1; number of reducers: 1\n",
      "2020-02-06 01:28:48,078 Stage-2 map = 0%,  reduce = 0%\n",
      "2020-02-06 01:28:54,856 Stage-2 map = 100%,  reduce = 0%, Cumulative CPU 2.32 sec\n",
      "2020-02-06 01:29:01,456 Stage-2 map = 100%,  reduce = 100%, Cumulative CPU 3.61 sec\n",
      "MapReduce Total cumulative CPU time: 3 seconds 610 msec\n",
      "Ended Job = job_1580946701849_0008\n",
      "Moving data to local directory output\n",
      "MapReduce Jobs Launched: \n",
      "Stage-Stage-1: Map: 1  Reduce: 1   Cumulative CPU: 3.68 sec   HDFS Read: 7246 HDFS Write: 186 SUCCESS\n",
      "Stage-Stage-2: Map: 1  Reduce: 1   Cumulative CPU: 3.61 sec   HDFS Read: 4729 HDFS Write: 12 SUCCESS\n",
      "Total MapReduce CPU Time Spent: 7 seconds 290 msec\n",
      "OK\n",
      "Time taken: 60.341 seconds\n"
     ]
    }
   ],
   "source": [
    "%%hive\n",
    "--Punto 3\n",
    "--INSERT OVERWRITE DIRECTORY '/tmp/output'\n",
    "--INSERT OVERWRITE DIRECTORY '/tmp/drivers/summary'\n",
    "\n",
    "INSERT OVERWRITE LOCAL DIRECTORY 'output'\n",
    "--ROW FORMAT DELIMITED FIELDS TERMINATED BY ','\n",
    "SELECT DISTINCT f3\n",
    "FROM tabla3\n",
    "ORDER BY f3 asc\n",
    "LIMIT 5;"
   ]
  },
  {
   "cell_type": "code",
   "execution_count": 24,
   "metadata": {},
   "outputs": [
    {
     "name": "stdout",
     "output_type": "stream",
     "text": [
      "--Punto 4\n",
      "--INSERT OVERWRITE DIRECTORY '/tmp/output'\n",
      "--INSERT OVERWRITE DIRECTORY '/tmp/drivers/summary'\n",
      "--INSERT OVERWRITE LOCAL DIRECTORY 'output'\n",
      "--ROW FORMAT DELIMITED FIELDS TERMINATED BY ','\n",
      "SELECT DISTINCT r0\n",
      "FROM tbl0\n",
      "LATERAL VIEW explode(c5) tbl0 AS r0\n",
      "ORDER BY r0 asc\n",
      "--LIMIT 5;\n"
     ]
    }
   ],
   "source": [
    "%%hive\n",
    "--Punto 4\n",
    "--INSERT OVERWRITE DIRECTORY '/tmp/output'\n",
    "--INSERT OVERWRITE DIRECTORY '/tmp/drivers/summary'\n",
    "\n",
    "--INSERT OVERWRITE LOCAL DIRECTORY 'output'\n",
    "--ROW FORMAT DELIMITED FIELDS TERMINATED BY ','\n",
    "SELECT DISTINCT r0\n",
    "FROM tbl0\n",
    "LATERAL VIEW explode(c5) tbl0 AS r0\n",
    "ORDER BY r0 asc\n",
    "LIMIT 5;"
   ]
  },
  {
   "cell_type": "code",
   "execution_count": 61,
   "metadata": {},
   "outputs": [
    {
     "name": "stdout",
     "output_type": "stream",
     "text": [
      "Found 1 items\n",
      "-rwxrwxrwx   1 root supergroup        621 2020-02-02 03:31 /tmp/output/000000_0\n"
     ]
    }
   ],
   "source": [
    "##!hdfs dfs -ls /tmp/drivers/summary/\n",
    "!hdfs dfs -ls /tmp/output"
   ]
  },
  {
   "cell_type": "code",
   "execution_count": 63,
   "metadata": {},
   "outputs": [
    {
     "name": "stdout",
     "output_type": "stream",
     "text": [
      "A,1990-10-06,10\n",
      "A,1990-09-05,11\n",
      "A,1988-04-27,12\n",
      "A,1990-08-31,12\n",
      "A,1994-10-25,13\n",
      "A,1997-12-15,13\n",
      "A,1993-01-11,14\n",
      "A,1990-09-26,14\n",
      "A,1992-08-22,14\n",
      "A,1993-05-08,16\n",
      "A,1992-09-19,18\n",
      "A,1990-07-22,18\n",
      "B,1995-08-23,10\n",
      "B,1999-06-11,12\n",
      "B,1998-11-22,13\n",
      "B,1999-10-21,13\n",
      "B,1993-03-02,14\n",
      "B,1995-09-06,14\n",
      "B,1997-04-09,14\n",
      "B,1991-10-01,15\n",
      "B,1994-08-30,17\n",
      "C,1994-01-25,6\n",
      "C,1994-07-27,7\n",
      "C,1991-02-12,13\n",
      "C,1994-09-09,15\n",
      "D,1990-10-10,15\n",
      "E,1994-02-14,5\n",
      "E,1999-09-10,11\n",
      "E,1999-12-06,12\n",
      "E,1993-01-27,13\n",
      "E,1991-02-18,14\n",
      "E,1999-01-14,15\n",
      "E,1985-02-12,16\n",
      "E,1990-05-03,16\n",
      "E,1998-09-14,16\n",
      "E,1995-04-25,16\n",
      "E,1993-07-21,17\n",
      "E,1990-02-09,18\n",
      "E,1993-12-27,18\n"
     ]
    }
   ],
   "source": [
    "##!hdfs dfs -tail /tmp/drivers/summary/000000_0\n",
    "!hdfs dfs -tail /tmp/output/000000_0"
   ]
  },
  {
   "cell_type": "code",
   "execution_count": 74,
   "metadata": {},
   "outputs": [
    {
     "name": "stdout",
     "output_type": "stream",
     "text": [
      "copyToLocal: `output/output/000000_0': File exists\n",
      "output/000000_0\n",
      "\n",
      "output/output:\n",
      "000000_0\n",
      "\n",
      "output/summary:\n",
      "000000_0\n"
     ]
    }
   ],
   "source": [
    "##Copia de los resultados a la máquina local\n",
    "##!hadoop fs -copyToLocal /tmp/drivers/summary/ output\n",
    "##!ls output/*\n",
    "##STORE r5 INTO 'output';\n",
    "##fs -copyToLocal output output; \n",
    "!hadoop fs -copyToLocal /tmp/output output\n",
    "!ls output/*"
   ]
  },
  {
   "cell_type": "code",
   "execution_count": 75,
   "metadata": {},
   "outputs": [
    {
     "name": "stdout",
     "output_type": "stream",
     "text": [
      "A,1990-10-06,10\n",
      "A,1990-09-05,11\n",
      "A,1988-04-27,12\n",
      "A,1990-08-31,12\n",
      "A,1994-10-25,13\n",
      "A,1997-12-15,13\n",
      "A,1993-01-11,14\n",
      "A,1990-09-26,14\n",
      "A,1992-08-22,14\n",
      "A,1993-05-08,16\n",
      "A,1992-09-19,18\n",
      "A,1990-07-22,18\n",
      "B,1995-08-23,10\n",
      "B,1999-06-11,12\n",
      "B,1998-11-22,13\n",
      "B,1999-10-21,13\n",
      "B,1993-03-02,14\n",
      "B,1995-09-06,14\n",
      "B,1997-04-09,14\n",
      "B,1991-10-01,15\n",
      "B,1994-08-30,17\n",
      "C,1994-01-25,6\n",
      "C,1994-07-27,7\n",
      "C,1991-02-12,13\n",
      "C,1994-09-09,15\n",
      "D,1990-10-10,15\n",
      "E,1994-02-14,5\n",
      "E,1999-09-10,11\n",
      "E,1999-12-06,12\n",
      "E,1993-01-27,13\n",
      "E,1991-02-18,14\n",
      "E,1999-01-14,15\n",
      "E,1985-02-12,16\n",
      "E,1990-05-03,16\n",
      "E,1998-09-14,16\n",
      "E,1995-04-25,16\n",
      "E,1993-07-21,17\n",
      "E,1990-02-09,18\n",
      "E,1993-12-27,18\n"
     ]
    }
   ],
   "source": [
    "!cat output/000000_0"
   ]
  },
  {
   "cell_type": "code",
   "execution_count": 26,
   "metadata": {},
   "outputs": [
    {
     "name": "stdout",
     "output_type": "stream",
     "text": [
      "DESCRIBE tabla3;\n",
      "OK\n",
      "f1                  \tstring              \t                    \n",
      "f2                  \tstring              \t                    \n",
      "f3                  \tint                 \t                    \n",
      "Time taken: 0.049 seconds, Fetched: 3 row(s)\n"
     ]
    }
   ],
   "source": [
    "%%hive\n",
    "DESCRIBE tabla3;"
   ]
  },
  {
   "cell_type": "code",
   "execution_count": 20,
   "metadata": {},
   "outputs": [],
   "source": [
    "## Obtención de un subconjunto de datos\n",
    "##   En hive es posible un subconjunto de datos y almacenarlo en una nueva tabla a partir de una consulta que permita obtener los datos deseados. \n",
    "##   En el siguiente código, se crea la tabla truck_events_subset con los primeros 100 registros de la tabla truck_events."
   ]
  },
  {
   "cell_type": "code",
   "execution_count": 13,
   "metadata": {},
   "outputs": [
    {
     "name": "stdout",
     "output_type": "stream",
     "text": [
      "DROP TABLE IF EXISTS subconjuntotabla3;\n",
      "OK\n",
      "Time taken: 0.015 seconds\n",
      "CREATE TABLE subconjuntotabla3\n",
      "AS\n",
      "    SELECT *\n",
      "    FROM tabla3\n",
      "    LIMIT 10;\n",
      "WARNING: Hive-on-MR is deprecated in Hive 2 and may not be available in the future versions. Consider using a different execution engine (i.e. spark, tez) or using Hive 1.X releases.\n",
      "Query ID = root_20200202015725_5acea685-c14c-4e38-945c-c702fcae4e14\n",
      "Total jobs = 1\n",
      "Launching Job 1 out of 1\n",
      "Number of reduce tasks determined at compile time: 1\n",
      "In order to change the average load for a reducer (in bytes):\n",
      "  set hive.exec.reducers.bytes.per.reducer=<number>\n",
      "In order to limit the maximum number of reducers:\n",
      "  set hive.exec.reducers.max=<number>\n",
      "In order to set a constant number of reducers:\n",
      "  set mapreduce.job.reduces=<number>\n",
      "Starting Job = job_1580606501050_0003, Tracking URL = http://24b3049aba78:8088/proxy/application_1580606501050_0003/\n",
      "Kill Command = /usr/local/hadoop/bin/hadoop job  -kill job_1580606501050_0003\n",
      "Hadoop job information for Stage-1: number of mappers: 1; number of reducers: 1\n",
      "2020-02-02 01:57:38,652 Stage-1 map = 0%,  reduce = 0%\n",
      "2020-02-02 01:57:52,483 Stage-1 map = 100%,  reduce = 0%, Cumulative CPU 1.83 sec\n",
      "2020-02-02 01:58:05,729 Stage-1 map = 100%,  reduce = 100%, Cumulative CPU 5.02 sec\n",
      "MapReduce Total cumulative CPU time: 5 seconds 20 msec\n",
      "Ended Job = job_1580606501050_0003\n",
      "Moving data to directory hdfs://0.0.0.0:9000/user/hive/warehouse/subconjuntotabla3\n",
      "MapReduce Jobs Launched: \n",
      "Stage-Stage-1: Map: 1  Reduce: 1   Cumulative CPU: 5.02 sec   HDFS Read: 7981 HDFS Write: 241 SUCCESS\n",
      "Total MapReduce CPU Time Spent: 5 seconds 20 msec\n",
      "OK\n",
      "Time taken: 42.724 seconds\n"
     ]
    }
   ],
   "source": [
    "%%hive\n",
    "DROP TABLE IF EXISTS subconjuntotabla3;\n",
    "\n",
    "CREATE TABLE subconjuntotabla3\n",
    "AS\n",
    "    SELECT *\n",
    "    FROM tabla3\n",
    "    LIMIT 10;"
   ]
  },
  {
   "cell_type": "code",
   "execution_count": 14,
   "metadata": {},
   "outputs": [
    {
     "name": "stdout",
     "output_type": "stream",
     "text": [
      "SELECT * FROM subconjuntotabla3 LIMIT 10;\n",
      "OK\n",
      "E\t1994-02-14\t5\n",
      "E\t1990-05-03\t16\n",
      "E\t1999-09-10\t11\n",
      "E\t1993-01-27\t13\n",
      "B\t1999-06-11\t12\n",
      "A\t1992-08-22\t14\n",
      "E\t1995-04-25\t16\n",
      "C\t1991-02-12\t13\n",
      "E\t1993-07-21\t17\n",
      "E\t1999-12-06\t12\n",
      "Time taken: 0.229 seconds, Fetched: 10 row(s)\n"
     ]
    }
   ],
   "source": [
    "%%hive\n",
    "SELECT * FROM subconjuntotabla3 LIMIT 10;"
   ]
  },
  {
   "cell_type": "code",
   "execution_count": 22,
   "metadata": {},
   "outputs": [],
   "source": [
    "## El código anterior es equivalente al siguiente, donde se usa LIKE en CREATE TABLE para indicar que la nueva tabla truck_events_subset tiene la misma estructura de la tabla existente truck_events."
   ]
  },
  {
   "cell_type": "code",
   "execution_count": 15,
   "metadata": {},
   "outputs": [
    {
     "name": "stdout",
     "output_type": "stream",
     "text": [
      "DROP TABLE IF EXISTS DROP TABLE IF EXISTS subconjuntotabla3;\n",
      "NoViableAltException(100@[213:1: tableName : (db= identifier DOT tab= identifier -> ^( TOK_TABNAME $db $tab) |tab= identifier -> ^( TOK_TABNAME $tab) );])\n",
      "\tat org.antlr.runtime.DFA.noViableAlt(DFA.java:158)\n",
      "\tat org.antlr.runtime.DFA.predict(DFA.java:116)\n",
      "\tat org.apache.hadoop.hive.ql.parse.HiveParser_FromClauseParser.tableName(HiveParser_FromClauseParser.java:5041)\n",
      "\tat org.apache.hadoop.hive.ql.parse.HiveParser.tableName(HiveParser.java:41966)\n",
      "\tat org.apache.hadoop.hive.ql.parse.HiveParser.dropTableStatement(HiveParser.java:7781)\n",
      "\tat org.apache.hadoop.hive.ql.parse.HiveParser.ddlStatement(HiveParser.java:3822)\n",
      "\tat org.apache.hadoop.hive.ql.parse.HiveParser.execStatement(HiveParser.java:2382)\n",
      "\tat org.apache.hadoop.hive.ql.parse.HiveParser.statement(HiveParser.java:1333)\n",
      "\tat org.apache.hadoop.hive.ql.parse.ParseDriver.parse(ParseDriver.java:208)\n",
      "\tat org.apache.hadoop.hive.ql.parse.ParseUtils.parse(ParseUtils.java:77)\n",
      "\tat org.apache.hadoop.hive.ql.parse.ParseUtils.parse(ParseUtils.java:70)\n",
      "\tat org.apache.hadoop.hive.ql.Driver.compile(Driver.java:468)\n",
      "\tat org.apache.hadoop.hive.ql.Driver.compileInternal(Driver.java:1317)\n",
      "\tat org.apache.hadoop.hive.ql.Driver.runInternal(Driver.java:1457)\n",
      "\tat org.apache.hadoop.hive.ql.Driver.run(Driver.java:1237)\n",
      "\tat org.apache.hadoop.hive.ql.Driver.run(Driver.java:1227)\n",
      "\tat org.apache.hadoop.hive.cli.CliDriver.processLocalCmd(CliDriver.java:233)\n",
      "\tat org.apache.hadoop.hive.cli.CliDriver.processCmd(CliDriver.java:184)\n",
      "\tat org.apache.hadoop.hive.cli.CliDriver.processLine(CliDriver.java:403)\n",
      "\tat org.apache.hadoop.hive.cli.CliDriver.executeDriver(CliDriver.java:821)\n",
      "\tat org.apache.hadoop.hive.cli.CliDriver.run(CliDriver.java:759)\n",
      "\tat org.apache.hadoop.hive.cli.CliDriver.main(CliDriver.java:686)\n",
      "\tat sun.reflect.NativeMethodAccessorImpl.invoke0(Native Method)\n",
      "\tat sun.reflect.NativeMethodAccessorImpl.invoke(NativeMethodAccessorImpl.java:62)\n",
      "\tat sun.reflect.DelegatingMethodAccessorImpl.invoke(DelegatingMethodAccessorImpl.java:43)\n",
      "\tat java.lang.reflect.Method.invoke(Method.java:498)\n",
      "\tat org.apache.hadoop.util.RunJar.run(RunJar.java:239)\n",
      "\tat org.apache.hadoop.util.RunJar.main(RunJar.java:153)\n",
      "FAILED: ParseException line 1:21 cannot recognize input near 'DROP' 'TABLE' 'IF' in table name\n",
      "CREATE TABLE subconjuntotabla3 LIKE tabla3;\n",
      "FAILED: Execution Error, return code 1 from org.apache.hadoop.hive.ql.exec.DDLTask. AlreadyExistsException(message:Table subconjuntotabla3 already exists)\n",
      "INSERT OVERWRITE TABLE subconjuntotabla3\n",
      "SELECT\n",
      "    *\n",
      "FROM\n",
      "    tabla3\n",
      "LIMIT\n",
      "    10;\n",
      "WARNING: Hive-on-MR is deprecated in Hive 2 and may not be available in the future versions. Consider using a different execution engine (i.e. spark, tez) or using Hive 1.X releases.\n",
      "Query ID = root_20200202020024_d84db9bd-241b-4652-a230-00aa7ece110a\n",
      "Total jobs = 1\n",
      "Launching Job 1 out of 1\n",
      "Number of reduce tasks determined at compile time: 1\n",
      "In order to change the average load for a reducer (in bytes):\n",
      "  set hive.exec.reducers.bytes.per.reducer=<number>\n",
      "In order to limit the maximum number of reducers:\n",
      "  set hive.exec.reducers.max=<number>\n",
      "In order to set a constant number of reducers:\n",
      "  set mapreduce.job.reduces=<number>\n",
      "Starting Job = job_1580606501050_0004, Tracking URL = http://24b3049aba78:8088/proxy/application_1580606501050_0004/\n",
      "Kill Command = /usr/local/hadoop/bin/hadoop job  -kill job_1580606501050_0004\n",
      "Hadoop job information for Stage-1: number of mappers: 1; number of reducers: 1\n",
      "2020-02-02 02:00:35,204 Stage-1 map = 0%,  reduce = 0%\n",
      "2020-02-02 02:00:42,149 Stage-1 map = 100%,  reduce = 0%, Cumulative CPU 2.08 sec\n",
      "2020-02-02 02:00:49,988 Stage-1 map = 100%,  reduce = 100%, Cumulative CPU 3.67 sec\n",
      "MapReduce Total cumulative CPU time: 3 seconds 670 msec\n",
      "Ended Job = job_1580606501050_0004\n",
      "Loading data to table default.subconjuntotabla3\n",
      "MapReduce Jobs Launched: \n",
      "Stage-Stage-1: Map: 1  Reduce: 1   Cumulative CPU: 3.67 sec   HDFS Read: 8597 HDFS Write: 241 SUCCESS\n",
      "Total MapReduce CPU Time Spent: 3 seconds 670 msec\n",
      "OK\n",
      "Time taken: 27.959 seconds\n"
     ]
    }
   ],
   "source": [
    "%%hive\n",
    "\n",
    "DROP TABLE IF EXISTS DROP TABLE IF EXISTS subconjuntotabla3;\n",
    "\n",
    "CREATE TABLE subconjuntotabla3 LIKE tabla3;\n",
    "\n",
    "INSERT OVERWRITE TABLE subconjuntotabla3\n",
    "SELECT\n",
    "    *\n",
    "FROM\n",
    "    tabla3\n",
    "LIMIT\n",
    "    10;"
   ]
  },
  {
   "cell_type": "code",
   "execution_count": 16,
   "metadata": {},
   "outputs": [
    {
     "name": "stdout",
     "output_type": "stream",
     "text": [
      "SELECT * FROM subconjuntotabla3 LIMIT 5;\n",
      "OK\n",
      "E\t1994-02-14\t5\n",
      "E\t1990-05-03\t16\n",
      "E\t1999-09-10\t11\n",
      "E\t1993-01-27\t13\n",
      "B\t1999-06-11\t12\n",
      "Time taken: 0.206 seconds, Fetched: 5 row(s)\n"
     ]
    }
   ],
   "source": [
    "%%hive\n",
    "SELECT * FROM subconjuntotabla3 LIMIT 5;"
   ]
  },
  {
   "cell_type": "code",
   "execution_count": 25,
   "metadata": {},
   "outputs": [],
   "source": [
    "## Obtención de un subconjunto de datos\n",
    "##   En el siguiente código se obtienen algunas columnas de la tabla truck_events_subset para ser almacenadas en una tabla diferente."
   ]
  },
  {
   "cell_type": "code",
   "execution_count": 17,
   "metadata": {},
   "outputs": [
    {
     "name": "stdout",
     "output_type": "stream",
     "text": [
      "DROP TABLE IF EXISTS specific_columns;\n",
      "OK\n",
      "Time taken: 0.005 seconds\n",
      "CREATE TABLE specific_columns\n",
      "AS\n",
      "    SELECT\n",
      "        f1,\n",
      "        f3\n",
      "    FROM\n",
      "        subconjuntotabla3;\n",
      "WARNING: Hive-on-MR is deprecated in Hive 2 and may not be available in the future versions. Consider using a different execution engine (i.e. spark, tez) or using Hive 1.X releases.\n",
      "Query ID = root_20200202020243_c7ae4e67-6e26-46d9-b9a0-2602149ad9a7\n",
      "Total jobs = 3\n",
      "Launching Job 1 out of 3\n",
      "Number of reduce tasks is set to 0 since there's no reduce operator\n",
      "Starting Job = job_1580606501050_0005, Tracking URL = http://24b3049aba78:8088/proxy/application_1580606501050_0005/\n",
      "Kill Command = /usr/local/hadoop/bin/hadoop job  -kill job_1580606501050_0005\n",
      "Hadoop job information for Stage-1: number of mappers: 1; number of reducers: 0\n",
      "2020-02-02 02:02:52,895 Stage-1 map = 0%,  reduce = 0%\n",
      "2020-02-02 02:02:59,630 Stage-1 map = 100%,  reduce = 0%, Cumulative CPU 1.83 sec\n",
      "MapReduce Total cumulative CPU time: 1 seconds 830 msec\n",
      "Ended Job = job_1580606501050_0005\n",
      "Stage-4 is selected by condition resolver.\n",
      "Stage-3 is filtered out by condition resolver.\n",
      "Stage-5 is filtered out by condition resolver.\n",
      "Moving data to directory hdfs://0.0.0.0:9000/user/hive/warehouse/.hive-staging_hive_2020-02-02_02-02-43_294_5774067471161797988-1/-ext-10002\n",
      "Moving data to directory hdfs://0.0.0.0:9000/user/hive/warehouse/specific_columns\n",
      "MapReduce Jobs Launched: \n",
      "Stage-Stage-1: Map: 1   Cumulative CPU: 1.83 sec   HDFS Read: 3693 HDFS Write: 129 SUCCESS\n",
      "Total MapReduce CPU Time Spent: 1 seconds 830 msec\n",
      "OK\n",
      "Time taken: 18.101 seconds\n",
      "SELECT * FROM specific_columns LIMIT 5;\n",
      "OK\n",
      "E\t5\n",
      "E\t16\n",
      "E\t11\n",
      "E\t13\n",
      "B\t12\n",
      "Time taken: 0.407 seconds, Fetched: 5 row(s)\n"
     ]
    }
   ],
   "source": [
    "%%hive\n",
    "\n",
    "DROP TABLE IF EXISTS specific_columns;\n",
    "\n",
    "CREATE TABLE specific_columns\n",
    "AS\n",
    "    SELECT\n",
    "        f1,\n",
    "        f3\n",
    "    FROM\n",
    "        subconjuntotabla3;\n",
    "\n",
    "SELECT * FROM specific_columns LIMIT 5;"
   ]
  },
  {
   "cell_type": "code",
   "execution_count": 27,
   "metadata": {},
   "outputs": [],
   "source": [
    "## Escritura de la tabla en el HDFS\n",
    "##   Seguidamente, se procede a escribir el contenido de la tabla en el directorio /tmp/drivers/specific-columns del HDFS."
   ]
  },
  {
   "cell_type": "code",
   "execution_count": 18,
   "metadata": {},
   "outputs": [
    {
     "name": "stdout",
     "output_type": "stream",
     "text": [
      "INSERT OVERWRITE DIRECTORY '/tmp/drivers/specific-columns'\n",
      "ROW FORMAT DELIMITED FIELDS TERMINATED BY ','\n",
      "SELECT\n",
      "    *\n",
      "FROM\n",
      "    specific_columns;\n",
      "WARNING: Hive-on-MR is deprecated in Hive 2 and may not be available in the future versions. Consider using a different execution engine (i.e. spark, tez) or using Hive 1.X releases.\n",
      "Query ID = root_20200202020410_95777ba6-a4f6-4648-8a63-6cf7d9c1dc0d\n",
      "Total jobs = 3\n",
      "Launching Job 1 out of 3\n",
      "Number of reduce tasks is set to 0 since there's no reduce operator\n",
      "Starting Job = job_1580606501050_0006, Tracking URL = http://24b3049aba78:8088/proxy/application_1580606501050_0006/\n",
      "Kill Command = /usr/local/hadoop/bin/hadoop job  -kill job_1580606501050_0006\n",
      "Hadoop job information for Stage-1: number of mappers: 1; number of reducers: 0\n",
      "2020-02-02 02:04:20,579 Stage-1 map = 0%,  reduce = 0%\n",
      "2020-02-02 02:04:27,299 Stage-1 map = 100%,  reduce = 0%, Cumulative CPU 2.13 sec\n",
      "MapReduce Total cumulative CPU time: 2 seconds 130 msec\n",
      "Ended Job = job_1580606501050_0006\n",
      "Stage-3 is selected by condition resolver.\n",
      "Stage-2 is filtered out by condition resolver.\n",
      "Stage-4 is filtered out by condition resolver.\n",
      "Moving data to directory hdfs://0.0.0.0:9000/tmp/drivers/specific-columns/.hive-staging_hive_2020-02-02_02-04-10_510_4947655197331567231-1/-ext-10000\n",
      "Moving data to directory /tmp/drivers/specific-columns\n",
      "MapReduce Jobs Launched: \n",
      "Stage-Stage-1: Map: 1   Cumulative CPU: 2.13 sec   HDFS Read: 3512 HDFS Write: 49 SUCCESS\n",
      "Total MapReduce CPU Time Spent: 2 seconds 130 msec\n",
      "OK\n",
      "Time taken: 17.915 seconds\n"
     ]
    }
   ],
   "source": [
    "%%hive\n",
    "INSERT OVERWRITE DIRECTORY '/tmp/drivers/specific-columns'\n",
    "ROW FORMAT DELIMITED FIELDS TERMINATED BY ','\n",
    "SELECT\n",
    "    *\n",
    "FROM\n",
    "    specific_columns;"
   ]
  },
  {
   "cell_type": "code",
   "execution_count": 20,
   "metadata": {},
   "outputs": [
    {
     "name": "stdout",
     "output_type": "stream",
     "text": [
      "Found 1 items\n",
      "-rwxr-xr-x   1 root supergroup         49 2020-02-02 02:04 /tmp/drivers/specific-columns/000000_0\n"
     ]
    }
   ],
   "source": [
    "##\n",
    "## Se visualiza el contenido del directorio\n",
    "##\n",
    "!hdfs dfs -ls /tmp/drivers/specific-columns/"
   ]
  },
  {
   "cell_type": "code",
   "execution_count": 21,
   "metadata": {},
   "outputs": [
    {
     "name": "stdout",
     "output_type": "stream",
     "text": [
      "E,5\n",
      "E,16\n",
      "E,11\n",
      "E,13\n",
      "B,12\n",
      "A,14\n",
      "E,16\n",
      "C,13\n",
      "E,17\n",
      "E,12\n"
     ]
    }
   ],
   "source": [
    "##\n",
    "## Se visualiza la parte final del archivo\n",
    "##\n",
    "!hdfs dfs -tail /tmp/drivers/specific-columns/000000_0"
   ]
  },
  {
   "cell_type": "code",
   "execution_count": 31,
   "metadata": {},
   "outputs": [
    {
     "name": "stdout",
     "output_type": "stream",
     "text": [
      "DROP TABLE drivers;\n",
      "OK\n",
      "Time taken: 0.102 seconds\n",
      "DROP TABLE specific_columns;\n",
      "OK\n",
      "Time taken: 0.049 seconds\n",
      "DROP TABLE temp_drivers;\n",
      "OK\n",
      "Time taken: 0.009 seconds\n",
      "DROP TABLE temp_timesheet;\n",
      "OK\n",
      "Time taken: 0.007 seconds\n",
      "DROP TABLE timesheet;\n",
      "OK\n",
      "Time taken: 0.005 seconds\n",
      "DROP TABLE truck_events;\n",
      "OK\n",
      "Time taken: 0.091 seconds\n",
      "DROP TABLE truck_events_subset;\n",
      "OK\n",
      "Time taken: 0.063 seconds\n"
     ]
    }
   ],
   "source": [
    "%%hive\n",
    "DROP TABLE drivers;\n",
    "DROP TABLE specific_columns;\n",
    "DROP TABLE temp_drivers;\n",
    "DROP TABLE temp_timesheet;\n",
    "DROP TABLE timesheet;\n",
    "DROP TABLE truck_events;\n",
    "DROP TABLE truck_events_subset;"
   ]
  },
  {
   "cell_type": "code",
   "execution_count": 14,
   "metadata": {},
   "outputs": [
    {
     "name": "stdout",
     "output_type": "stream",
     "text": [
      "rm: cannot remove '*.csv': No such file or directory\n"
     ]
    }
   ],
   "source": [
    "!rm *.csv *.log"
   ]
  },
  {
   "cell_type": "code",
   "execution_count": 33,
   "metadata": {},
   "outputs": [],
   "source": [
    "## Finalmente, y una vez se ha terminado de depurar el código, se cierra el interprete de Hive que se abrió en el background."
   ]
  },
  {
   "cell_type": "code",
   "execution_count": 15,
   "metadata": {},
   "outputs": [],
   "source": [
    "%hive_quit"
   ]
  }
 ],
 "metadata": {
  "kernelspec": {
   "display_name": "Python 3",
   "language": "python",
   "name": "python3"
  },
  "language_info": {
   "codemirror_mode": {
    "name": "ipython",
    "version": 3
   },
   "file_extension": ".py",
   "mimetype": "text/x-python",
   "name": "python",
   "nbconvert_exporter": "python",
   "pygments_lexer": "ipython3",
   "version": "3.6.8"
  }
 },
 "nbformat": 4,
 "nbformat_minor": 4
}
