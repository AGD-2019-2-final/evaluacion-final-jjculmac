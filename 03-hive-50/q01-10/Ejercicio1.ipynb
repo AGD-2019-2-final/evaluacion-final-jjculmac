{
 "cells": [
  {
   "cell_type": "code",
   "execution_count": 1,
   "metadata": {},
   "outputs": [],
   "source": [
    "%load_ext bigdata\n",
    "%hive_start\n",
    "%timeout 300"
   ]
  },
  {
   "cell_type": "code",
   "execution_count": 2,
   "metadata": {},
   "outputs": [],
   "source": [
    "!hdfs dfs -mkdir /tmp/drivers"
   ]
  },
  {
   "cell_type": "code",
   "execution_count": 3,
   "metadata": {},
   "outputs": [
    {
     "name": "stdout",
     "output_type": "stream",
     "text": [
      "ls: `/tmp/drivers/*': No such file or directory\n"
     ]
    }
   ],
   "source": [
    "!hdfs dfs -ls /tmp/drivers/*"
   ]
  },
  {
   "cell_type": "code",
   "execution_count": 4,
   "metadata": {},
   "outputs": [
    {
     "name": "stdout",
     "output_type": "stream",
     "text": [
      "tail: `/tmp/drivers/data.tsv': No such file or directory\n"
     ]
    }
   ],
   "source": [
    "!hdfs dfs -tail /tmp/drivers/data.tsv"
   ]
  },
  {
   "cell_type": "code",
   "execution_count": 5,
   "metadata": {},
   "outputs": [
    {
     "name": "stdout",
     "output_type": "stream",
     "text": [
      "DROP TABLE IF EXISTS data1;\n",
      "OK\n",
      "Time taken: 23.979 seconds\n",
      "CREATE TABLE data1 (f1 string,\n",
      "                      f2 string,\n",
      "                      f3 int )\n",
      "ROW FORMAT DELIMITED \n",
      "FIELDS TERMINATED BY '\\t';\n",
      "OK\n",
      "Time taken: 1.973 seconds\n",
      "LOAD DATA LOCAL INPATH \"data.tsv\" OVERWRITE INTO TABLE data1;\n",
      "Loading data to table default.data1\n",
      "OK\n",
      "Time taken: 2.086 seconds\n",
      "INSERT OVERWRITE LOCAL DIRECTORY 'output'\n",
      "ROW FORMAT DELIMITED FIELDS TERMINATED BY ','\n",
      "SELECT CONCAT (f1,',', count (f1))\n",
      "FROM data1\n",
      "GROUP BY f1;\n",
      "WARNING: Hive-on-MR is deprecated in Hive 2 and may not be available in the future versions. Consider using a different execution engine (i.e. spark, tez) or using Hive 1.X releases.\n",
      "Query ID = root_20200202002556_13f6b3ca-241a-4349-afbd-1eb21d711f95\n",
      "Total jobs = 1\n",
      "Launching Job 1 out of 1\n",
      "Number of reduce tasks not specified. Estimated from input data size: 1\n",
      "In order to change the average load for a reducer (in bytes):\n",
      "  set hive.exec.reducers.bytes.per.reducer=<number>\n",
      "In order to limit the maximum number of reducers:\n",
      "  set hive.exec.reducers.max=<number>\n",
      "In order to set a constant number of reducers:\n",
      "  set mapreduce.job.reduces=<number>\n",
      "Starting Job = job_1580602610874_0002, Tracking URL = http://a321161b7762:8088/proxy/application_1580602610874_0002/\n",
      "Kill Command = /usr/local/hadoop/bin/hadoop job  -kill job_1580602610874_0002\n",
      "Hadoop job information for Stage-1: number of mappers: 1; number of reducers: 1\n",
      "2020-02-02 00:26:15,099 Stage-1 map = 0%,  reduce = 0%\n",
      "2020-02-02 00:26:23,310 Stage-1 map = 100%,  reduce = 0%, Cumulative CPU 2.17 sec\n",
      "2020-02-02 00:26:33,754 Stage-1 map = 100%,  reduce = 100%, Cumulative CPU 6.47 sec\n",
      "MapReduce Total cumulative CPU time: 6 seconds 470 msec\n",
      "Ended Job = job_1580602610874_0002\n",
      "Moving data to local directory output\n",
      "MapReduce Jobs Launched: \n",
      "Stage-Stage-1: Map: 1  Reduce: 1   Cumulative CPU: 6.47 sec   HDFS Read: 8574 HDFS Write: 23 SUCCESS\n",
      "Total MapReduce CPU Time Spent: 6 seconds 470 msec\n",
      "OK\n",
      "Time taken: 38.449 seconds\n"
     ]
    }
   ],
   "source": [
    "%%hive\n",
    "DROP TABLE IF EXISTS data1;\n",
    "\n",
    "CREATE TABLE data1 (f1 string,\n",
    "                      f2 string,\n",
    "                      f3 int )\n",
    "                      \n",
    "ROW FORMAT DELIMITED \n",
    "FIELDS TERMINATED BY '\\t';\n",
    "\n",
    "LOAD DATA LOCAL INPATH \"data.tsv\" OVERWRITE INTO TABLE data1;\n",
    "\n",
    "INSERT OVERWRITE LOCAL DIRECTORY 'output'\n",
    "ROW FORMAT DELIMITED FIELDS TERMINATED BY ','\n",
    "SELECT CONCAT (f1,',', count (f1))\n",
    "FROM data1\n",
    "GROUP BY f1;"
   ]
  },
  {
   "cell_type": "code",
   "execution_count": null,
   "metadata": {},
   "outputs": [
    {
     "name": "stdout",
     "output_type": "stream",
     "text": [
      "SELECT CONCAT (f1,',', count (f1))\n",
      "FROM data1\n"
     ]
    }
   ],
   "source": [
    "%%hive\n",
    "SELECT CONCAT (f1,',', count (f1))\n",
    "FROM data1\n",
    "GROUP BY f1;"
   ]
  },
  {
   "cell_type": "code",
   "execution_count": null,
   "metadata": {},
   "outputs": [],
   "source": []
  }
 ],
 "metadata": {
  "kernelspec": {
   "display_name": "Python 3",
   "language": "python",
   "name": "python3"
  },
  "language_info": {
   "codemirror_mode": {
    "name": "ipython",
    "version": 3
   },
   "file_extension": ".py",
   "mimetype": "text/x-python",
   "name": "python",
   "nbconvert_exporter": "python",
   "pygments_lexer": "ipython3",
   "version": "3.6.8"
  }
 },
 "nbformat": 4,
 "nbformat_minor": 4
}
