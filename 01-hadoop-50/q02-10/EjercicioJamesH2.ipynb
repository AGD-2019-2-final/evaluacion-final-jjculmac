{
 "cells": [
  {
   "cell_type": "code",
   "execution_count": 85,
   "metadata": {},
   "outputs": [],
   "source": [
    "## Se crea el directorio de entrada\n",
    "##!rm -rf input output\n",
    "##!mkdir input"
   ]
  },
  {
   "cell_type": "code",
   "execution_count": 150,
   "metadata": {},
   "outputs": [],
   "source": [
    "##cols = 'Name,JobTitle,AgencyID,Agency,HireDate,AnnualSalary,GrossPay'.split(',')"
   ]
  },
  {
   "cell_type": "code",
   "execution_count": 1,
   "metadata": {},
   "outputs": [
    {
     "name": "stdout",
     "output_type": "stream",
     "text": [
      "Overwriting mapper.py\n"
     ]
    }
   ],
   "source": [
    "%%writefile mapper.py\n",
    "#! /usr/bin/python3\n",
    "\n",
    "## Esta es la funcion que mapea la entrada a parejas (clave, valor)\n",
    "import sys\n",
    "if __name__ == \"__main__\":\n",
    "\n",
    "    ## itera sobre cada linea de codigo recibida a traves del flujo de entrada\n",
    "    \n",
    "    for line in sys.stdin:\n",
    "        ##line = line.strip()\n",
    "        ##print(line)\n",
    "        ##credit_history = \"\"\n",
    "        ##splits = line.split(\",\")\n",
    "        ##credit_history = splits[2]   \n",
    "        ##print(splits[2] + '\\t' + '1')\n",
    "        ##print(credit_history + '\\t'+ '1')\n",
    "        \n",
    "        purpose=\"\"\n",
    "        amount=0     \n",
    "        splits = line.split(\",\")\n",
    "        purpose=splits[3]\n",
    "        amount=splits[4]\n",
    "        suma = int(amount)\n",
    "        print(purpose + '\\t' + amount)\n",
    "        ##print(len(splits[4]))\n",
    "        ##print(len(amount))\n",
    "        ##print(type(amount))\n",
    " \n",
    "    ## genera las tuplas palabra \\tabulador 1 ya que es un conteo de palabras\n",
    "    ##sys.stdout.write(\"{}\\t1\\n\".format(splits[2]))"
   ]
  },
  {
   "cell_type": "code",
   "execution_count": 2,
   "metadata": {},
   "outputs": [],
   "source": [
    "## El programa anterior se hace ejecutable\n",
    "!chmod +x mapper.py"
   ]
  },
  {
   "cell_type": "code",
   "execution_count": 3,
   "metadata": {},
   "outputs": [
    {
     "name": "stdout",
     "output_type": "stream",
     "text": [
      "radio/tv\t1169\n",
      "radio/tv\t5951\n",
      "education\t2096\n",
      "furniture\t7882\n",
      "car (new)\t4870\n",
      "education\t9055\n",
      "furniture\t2835\n",
      "car (used)\t6948\n",
      "radio/tv\t3059\n",
      "car (new)\t5234\n"
     ]
    }
   ],
   "source": [
    "## la salida de la función anterior es:\n",
    "!cat ./credit.csv | ./mapper.py | head"
   ]
  },
  {
   "cell_type": "code",
   "execution_count": 4,
   "metadata": {},
   "outputs": [
    {
     "name": "stdout",
     "output_type": "stream",
     "text": [
      "Overwriting reducer.py\n"
     ]
    }
   ],
   "source": [
    "%%writefile reducer.py\n",
    "#! /usr/bin/python3\n",
    "\n",
    "import sys\n",
    "\n",
    "## Esta funcion reduce los elementos que tienen la misma clave\n",
    "\n",
    "if __name__ == '__main__':\n",
    "\n",
    "    curkey = None\n",
    "    total = 0\n",
    "\n",
    "    ## cada linea de texto recibida es una entrada clave \\tabulador valor\n",
    "    \n",
    "    for line in sys.stdin:\n",
    "        key, val = line.split(\"\\t\")\n",
    "        val = int(val)\n",
    "                    \n",
    "        if key == curkey:\n",
    "            ## No se ha cambiado de clave. Aca se acumulan los valores para la misma clave.\n",
    "                        \n",
    "            #total += val\n",
    "            if (val>maxi):\n",
    "                maxi=val            \n",
    "        else:\n",
    "            ## Se cambio de clave. Se reinicia el acumulador.\n",
    "            if curkey is not None:\n",
    "                ## una vez se han reducido todos los elementos con la misma clave se imprime el resultado en el flujo de salida\n",
    "                ##sys.stdout.write(\"{}\\t{}\\n\".format(curkey, total))\n",
    "                sys.stdout.write(\"{}\\t{}\\n\".format(curkey, maxi))\n",
    "\n",
    "            curkey = key\n",
    "            #total = val\n",
    "            maxi=val\n",
    "\n",
    "    ##sys.stdout.write(\"{}\\t{}\\n\".format(curkey, total))\n",
    "    sys.stdout.write(\"{}\\t{}\\n\".format(curkey, maxi))"
   ]
  },
  {
   "cell_type": "code",
   "execution_count": 5,
   "metadata": {},
   "outputs": [],
   "source": [
    "## El archivo se hace ejecutable\n",
    "!chmod +x reducer.py"
   ]
  },
  {
   "cell_type": "code",
   "execution_count": 6,
   "metadata": {},
   "outputs": [
    {
     "name": "stdout",
     "output_type": "stream",
     "text": [
      "business\t15945\n",
      "car (new)\t14896\n",
      "car (used)\t12976\n",
      "domestic appliances\t3990\n",
      "education\t12612\n",
      "furniture\t14179\n",
      "others\t18424\n",
      "radio/tv\t15653\n",
      "repairs\t11998\n",
      "retraining\t3447\n"
     ]
    }
   ],
   "source": [
    "## La función sort hace que todos los elementos con la misma clave queden en lineas consecutivas. Hace el papel del módulo Shuffle & Sort\n",
    "##!cat ./input/text*.txt | ./mapper.py | sort | ./reducer.py | head\n",
    "!cat ./credit.csv | ./mapper.py | sort | ./reducer.py | head"
   ]
  }
 ],
 "metadata": {
  "kernelspec": {
   "display_name": "Python 3",
   "language": "python",
   "name": "python3"
  },
  "language_info": {
   "codemirror_mode": {
    "name": "ipython",
    "version": 3
   },
   "file_extension": ".py",
   "mimetype": "text/x-python",
   "name": "python",
   "nbconvert_exporter": "python",
   "pygments_lexer": "ipython3",
   "version": "3.6.8"
  }
 },
 "nbformat": 4,
 "nbformat_minor": 4
}
