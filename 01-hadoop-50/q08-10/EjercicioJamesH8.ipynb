{
 "cells": [
  {
   "cell_type": "code",
   "execution_count": 103,
   "metadata": {},
   "outputs": [],
   "source": [
    "## Se crea el directorio de entrada\n",
    "!rm -rf input output\n",
    "!mkdir input"
   ]
  },
  {
   "cell_type": "code",
   "execution_count": 27,
   "metadata": {},
   "outputs": [
    {
     "name": "stdout",
     "output_type": "stream",
     "text": [
      "Overwriting mapper.py\n"
     ]
    }
   ],
   "source": [
    "%%writefile mapper.py\n",
    "#! /usr/bin/python3\n",
    "\n",
    "##\n",
    "## Esta es la funcion que mapea la entrada a parejas (clave, valor)\n",
    "##\n",
    "import sys\n",
    "if __name__ == \"__main__\":\n",
    "\n",
    "    ##\n",
    "    ## itera sobre cada linea de codigo recibida\n",
    "    ## a traves del flujo de entrada\n",
    "    ##\n",
    "    \n",
    "    for line in sys.stdin:\n",
    "        line = line.strip()\n",
    "        splits = line.split(\"  \")\n",
    "        print(splits[0] + '\\t' + splits[2])"
   ]
  },
  {
   "cell_type": "code",
   "execution_count": 28,
   "metadata": {},
   "outputs": [],
   "source": [
    "## El programa anterior se hace ejecutable\n",
    "!chmod +x mapper.py"
   ]
  },
  {
   "cell_type": "code",
   "execution_count": 29,
   "metadata": {},
   "outputs": [
    {
     "name": "stdout",
     "output_type": "stream",
     "text": [
      "B\t 14\n",
      "E\t 12\n",
      "E\t 17\n",
      "C\t 13\n",
      "E\t 16\n",
      "A\t 14\n",
      "B\t 12\n",
      "E\t 13\n",
      "E\t 11\n",
      "E\t 16\n",
      "E\t 10\n",
      "A\t 12\n",
      "A\t 10\n",
      "E\t 16\n",
      "E\t 16\n",
      "B\t 17\n",
      "A\t 13\n",
      "B\t 10\n",
      "B\t 13\n",
      "B\t 14\n",
      "E\t 18\n",
      "E\t 15\n",
      "A\t 18\n",
      "B\t 14\n",
      "B\t 13\n",
      "A\t 12\n",
      "C\t 10\n",
      "E\t 18\n",
      "A\t 14\n",
      "A\t 16\n",
      "B\t 14\n",
      "E\t 14\n",
      "A\t 14\n",
      "A\t 18\n",
      "C\t 15\n",
      "C\t 10\n",
      "D\t 15\n",
      "A\t 11\n",
      "B\t 15\n",
      "A\t 13\n"
     ]
    }
   ],
   "source": [
    "## la salida de la función anterior es:\n",
    "!cat ./data.csv | ./mapper.py"
   ]
  },
  {
   "cell_type": "code",
   "execution_count": 30,
   "metadata": {},
   "outputs": [
    {
     "name": "stdout",
     "output_type": "stream",
     "text": [
      "Overwriting reducer.py\n"
     ]
    }
   ],
   "source": [
    "%%writefile reducer.py\n",
    "#! /usr/bin/python3\n",
    "\n",
    "import sys\n",
    "\n",
    "## Esta funcion reduce los elementos que tienen la misma clave\n",
    "\n",
    "if __name__ == '__main__':\n",
    "\n",
    "    curkey = None\n",
    "    total = 0\n",
    "    cont = 0\n",
    "    ## cada linea de texto recibida es una entrada clave \\tabulador valor\n",
    "    \n",
    "    for line in sys.stdin:\n",
    "        key, val = line.split(\"\\t\")\n",
    "        val = float(val)\n",
    "                    \n",
    "        if key == curkey:\n",
    "            ## No se ha cambiado de clave. Aca se acumulan los valores para la misma clave.\n",
    "            total += val\n",
    "            cont += 1\n",
    "            #if (val>maxi):\n",
    "            #    maxi=val\n",
    "            #if (val<mini):\n",
    "            #    mini=val  \n",
    "        else:\n",
    "            ## Se cambio de clave. Se reinicia el acumulador.\n",
    "            if curkey is not None:                \n",
    "                ## una vez se han reducido todos los elementos con la misma clave se imprime el resultado en el flujo de salida\n",
    "                #sys.stdout.write(\"{}\\t{}\\t{}\\n\".format(curkey, maxi, mini))\n",
    "                sys.stdout.write(\"{}\\t{}\\t{}\\n\".format(curkey, total, total/cont))\n",
    "\n",
    "            total = val\n",
    "            cont = 1\n",
    "            curkey = key\n",
    "            #maxi=val\n",
    "            #mini=val\n",
    "\n",
    "    #sys.stdout.write(\"{}\\t{}\\t{}\\n\".format(curkey, maxi, mini))\n",
    "    sys.stdout.write(\"{}\\t{}\\t{}\\n\".format(curkey, total, total/cont))"
   ]
  },
  {
   "cell_type": "code",
   "execution_count": 31,
   "metadata": {},
   "outputs": [],
   "source": [
    "## El archivo se hace ejecutable\n",
    "!chmod +x reducer.py"
   ]
  },
  {
   "cell_type": "code",
   "execution_count": 32,
   "metadata": {},
   "outputs": [
    {
     "name": "stdout",
     "output_type": "stream",
     "text": [
      "A\t165.0\t13.75\n",
      "B\t136.0\t13.6\n",
      "C\t48.0\t12.0\n",
      "D\t15.0\t15.0\n",
      "E\t192.0\t14.76923076923077\n"
     ]
    }
   ],
   "source": [
    "##\n",
    "## La función sort hace que todos los elementos con\n",
    "## la misma clave queden en lineas consecutivas.\n",
    "## Hace el papel del módulo Shuffle & Sort\n",
    "##\n",
    "##!cat ./input/text*.txt | ./mapper.py | sort | ./reducer.py | head\n",
    "!cat ./data.csv | ./mapper.py | sort | ./reducer.py"
   ]
  }
 ],
 "metadata": {
  "kernelspec": {
   "display_name": "Python 3",
   "language": "python",
   "name": "python3"
  },
  "language_info": {
   "codemirror_mode": {
    "name": "ipython",
    "version": 3
   },
   "file_extension": ".py",
   "mimetype": "text/x-python",
   "name": "python",
   "nbconvert_exporter": "python",
   "pygments_lexer": "ipython3",
   "version": "3.6.8"
  }
 },
 "nbformat": 4,
 "nbformat_minor": 4
}
