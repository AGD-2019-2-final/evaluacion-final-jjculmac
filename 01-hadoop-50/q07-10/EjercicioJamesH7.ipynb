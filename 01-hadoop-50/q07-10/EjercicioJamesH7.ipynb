{
 "cells": [
  {
   "cell_type": "code",
   "execution_count": 107,
   "metadata": {},
   "outputs": [],
   "source": [
    "## Se crea el directorio de entrada\n",
    "!rm -rf input output\n",
    "!mkdir input"
   ]
  },
  {
   "cell_type": "code",
   "execution_count": 126,
   "metadata": {},
   "outputs": [
    {
     "name": "stdout",
     "output_type": "stream",
     "text": [
      "Overwriting mapper.py\n"
     ]
    }
   ],
   "source": [
    "%%writefile mapper.py\n",
    "#! /usr/bin/python3\n",
    "\n",
    "## Esta es la funcion que mapea la entrada a parejas (clave, valor)\n",
    "\n",
    "import sys\n",
    "if __name__ == \"__main__\":\n",
    "\n",
    "    ## itera sobre cada linea de codigo recibida a traves del flujo de entrada\n",
    "    \n",
    "    for line in sys.stdin:\n",
    "        line = line.strip()\n",
    "        splits = line.split(\"  \")\n",
    "        numero=splits[2]\n",
    "        numero=int(numero)\n",
    "        numero=str(numero)\n",
    "        if len(numero) == 1:\n",
    "            a='00'\n",
    "            a+=numero\n",
    "            numero=a\n",
    "        if len(numero) == 2:\n",
    "            a='0'\n",
    "            a+=numero\n",
    "            numero=a\n",
    "        print(splits[0] + '\\t' + numero + '\\t' + splits[1])"
   ]
  },
  {
   "cell_type": "code",
   "execution_count": 127,
   "metadata": {},
   "outputs": [],
   "source": [
    "## El programa anterior se hace ejecutable\n",
    "!chmod +x mapper.py"
   ]
  },
  {
   "cell_type": "code",
   "execution_count": 128,
   "metadata": {},
   "outputs": [
    {
     "name": "stdout",
     "output_type": "stream",
     "text": [
      "A\t000\t 1990-07-22\n",
      "A\t008\t 1990-09-26\n",
      "A\t009\t 1992-09-19\n",
      "A\t010\t 1990-10-06\n",
      "A\t011\t 1990-09-05\n",
      "A\t012\t 1990-08-31\n",
      "A\t013\t 1997-12-15\n",
      "A\t014\t 1994-10-25\n",
      "A\t015\t 1993-01-11\n",
      "A\t016\t 1992-08-22\n",
      "A\t017\t 1993-05-08\n",
      "A\t121\t 1988-04-27\n",
      "B\t001\t 1995-08-23\n",
      "B\t009\t 1991-10-01\n",
      "B\t013\t 1999-10-21\n",
      "B\t014\t 1997-04-09\n",
      "B\t015\t 1995-09-06\n",
      "B\t016\t 1993-03-02\n",
      "B\t017\t 1999-08-28\n",
      "B\t018\t 1994-08-30\n",
      "B\t121\t 1999-06-11\n",
      "B\t131\t 1998-11-22\n",
      "C\t010\t 1994-01-25\n",
      "C\t013\t 1991-02-12\n",
      "C\t015\t 1994-09-09\n",
      "C\t104\t 1994-07-27\n",
      "D\t015\t 1990-10-10\n",
      "E\t002\t 1998-09-14\n",
      "E\t003\t 1995-04-25\n",
      "E\t004\t 1993-07-21\n",
      "E\t009\t 1993-01-27\n",
      "E\t010\t 1994-02-14\n",
      "E\t011\t 1999-09-10\n",
      "E\t012\t 1999-12-06\n",
      "E\t015\t 1999-01-14\n",
      "E\t016\t 1990-05-03\n",
      "E\t017\t 1985-02-12\n",
      "E\t018\t 1990-02-09\n",
      "E\t019\t 1993-12-27\n",
      "E\t141\t 1991-02-18\n"
     ]
    }
   ],
   "source": [
    "## la salida de la función anterior es:\n",
    "!cat ./data.csv | ./mapper.py | sort"
   ]
  },
  {
   "cell_type": "code",
   "execution_count": 129,
   "metadata": {},
   "outputs": [
    {
     "name": "stdout",
     "output_type": "stream",
     "text": [
      "Overwriting reducer.py\n"
     ]
    }
   ],
   "source": [
    "%%writefile reducer.py\n",
    "#! /usr/bin/python3\n",
    "\n",
    "import sys\n",
    "## Esta funcion ordena los elementos\n",
    "\n",
    "if __name__ == '__main__':\n",
    "\n",
    "    ## cada linea de texto recibida es una entrada clave \\tabulador valor \n",
    "   \n",
    "    for line in sys.stdin:\n",
    "        line = line.strip()\n",
    "        splits = line.split(\"\\t\")\n",
    "        key, val, fecha = line.split(\"\\t\")\n",
    "        val = int(val) # le quita el cero al inicio a los valores de 1 y 2 cifras que tienen cero al principio\n",
    "        val = str(val)\n",
    "        print(key + '\\t' + fecha + '\\t' + val)"
   ]
  },
  {
   "cell_type": "code",
   "execution_count": 130,
   "metadata": {},
   "outputs": [],
   "source": [
    "## El archivo se hace ejecutable\n",
    "!chmod +x reducer.py"
   ]
  },
  {
   "cell_type": "code",
   "execution_count": 131,
   "metadata": {},
   "outputs": [
    {
     "name": "stdout",
     "output_type": "stream",
     "text": [
      "A\t 1990-07-22\t0\n",
      "A\t 1990-09-26\t8\n",
      "A\t 1992-09-19\t9\n",
      "A\t 1990-10-06\t10\n",
      "A\t 1990-09-05\t11\n",
      "A\t 1990-08-31\t12\n",
      "A\t 1997-12-15\t13\n",
      "A\t 1994-10-25\t14\n",
      "A\t 1993-01-11\t15\n",
      "A\t 1992-08-22\t16\n",
      "A\t 1993-05-08\t17\n",
      "A\t 1988-04-27\t121\n",
      "B\t 1995-08-23\t1\n",
      "B\t 1991-10-01\t9\n",
      "B\t 1999-10-21\t13\n",
      "B\t 1997-04-09\t14\n",
      "B\t 1995-09-06\t15\n",
      "B\t 1993-03-02\t16\n",
      "B\t 1999-08-28\t17\n",
      "B\t 1994-08-30\t18\n",
      "B\t 1999-06-11\t121\n",
      "B\t 1998-11-22\t131\n",
      "C\t 1994-01-25\t10\n",
      "C\t 1991-02-12\t13\n",
      "C\t 1994-09-09\t15\n",
      "C\t 1994-07-27\t104\n",
      "D\t 1990-10-10\t15\n",
      "E\t 1998-09-14\t2\n",
      "E\t 1995-04-25\t3\n",
      "E\t 1993-07-21\t4\n",
      "E\t 1993-01-27\t9\n",
      "E\t 1994-02-14\t10\n",
      "E\t 1999-09-10\t11\n",
      "E\t 1999-12-06\t12\n",
      "E\t 1999-01-14\t15\n",
      "E\t 1990-05-03\t16\n",
      "E\t 1985-02-12\t17\n",
      "E\t 1990-02-09\t18\n",
      "E\t 1993-12-27\t19\n",
      "E\t 1991-02-18\t141\n"
     ]
    }
   ],
   "source": [
    "## La función sort hace que todos los elementos con la misma clave queden en lineas consecutivas. Hace el papel del módulo Shuffle & Sort\n",
    "#!cat ./data.csv | ./mapper.py | sort -k1,1 -k3n,3 | ./reducer.py\n",
    "!cat ./data.csv | ./mapper.py | sort | ./reducer.py"
   ]
  }
 ],
 "metadata": {
  "kernelspec": {
   "display_name": "Python 3",
   "language": "python",
   "name": "python3"
  },
  "language_info": {
   "codemirror_mode": {
    "name": "ipython",
    "version": 3
   },
   "file_extension": ".py",
   "mimetype": "text/x-python",
   "name": "python",
   "nbconvert_exporter": "python",
   "pygments_lexer": "ipython3",
   "version": "3.6.8"
  }
 },
 "nbformat": 4,
 "nbformat_minor": 4
}
