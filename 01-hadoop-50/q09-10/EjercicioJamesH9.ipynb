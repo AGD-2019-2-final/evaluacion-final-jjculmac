{
 "cells": [
  {
   "cell_type": "code",
   "execution_count": 25,
   "metadata": {},
   "outputs": [],
   "source": [
    "## Se crea el directorio de entrada\n",
    "!rm -rf input output\n",
    "!mkdir input"
   ]
  },
  {
   "cell_type": "code",
   "execution_count": 26,
   "metadata": {},
   "outputs": [
    {
     "name": "stdout",
     "output_type": "stream",
     "text": [
      "Overwriting mapper.py\n"
     ]
    }
   ],
   "source": [
    "%%writefile mapper.py\n",
    "#! /usr/bin/python3\n",
    "\n",
    "## Esta es la funcion que mapea la entrada a parejas (clave, valor)\n",
    "\n",
    "import sys\n",
    "if __name__ == \"__main__\":\n",
    "\n",
    "    ## itera sobre cada linea de codigo recibida a traves del flujo de entrada\n",
    "    \n",
    "    for line in sys.stdin:\n",
    "        line = line.strip()\n",
    "        splits = line.split(\"  \")\n",
    "        numero=splits[2]\n",
    "        numero=int(numero)\n",
    "        numero=str(numero)\n",
    "        if len(numero) == 1:\n",
    "            a='00'\n",
    "            a+=numero\n",
    "            numero=a\n",
    "        if len(numero) == 2:\n",
    "            a='0'\n",
    "            a+=numero\n",
    "            numero=a\n",
    "        print(numero + '\\t' + splits[0] + '\\t' + splits[1])"
   ]
  },
  {
   "cell_type": "code",
   "execution_count": 27,
   "metadata": {},
   "outputs": [],
   "source": [
    "## El programa anterior se hace ejecutable\n",
    "!chmod +x mapper.py"
   ]
  },
  {
   "cell_type": "code",
   "execution_count": 28,
   "metadata": {},
   "outputs": [
    {
     "name": "stdout",
     "output_type": "stream",
     "text": [
      "001\tC\t 1994-07-27\n",
      "002\tC\t 1991-02-12\n",
      "004\tA\t 1990-07-22\n",
      "005\tA\t 1990-09-26\n",
      "006\tB\t 1997-04-09\n",
      "007\tE\t 1998-09-14\n",
      "008\tE\t 1993-01-27\n",
      "009\tA\t 1988-04-27\n",
      "010\tA\t 1990-10-06\n",
      "010\tC\t 1994-01-25\n",
      "011\tA\t 1990-09-05\n",
      "011\tE\t 1999-09-10\n",
      "012\tA\t 1990-08-31\n",
      "012\tB\t 1999-06-11\n",
      "013\tA\t 1994-10-25\n",
      "013\tA\t 1997-12-15\n",
      "013\tB\t 1998-11-22\n",
      "014\tA\t 1992-08-22\n",
      "014\tB\t 1993-03-02\n",
      "014\tB\t 1999-08-28\n",
      "014\tE\t 1991-02-18\n",
      "015\tE\t 1999-01-14\n",
      "016\tA\t 1993-05-08\n",
      "016\tE\t 1985-02-12\n",
      "016\tE\t 1990-05-03\n",
      "017\tB\t 1994-08-30\n",
      "017\tE\t 1993-07-21\n",
      "018\tA\t 1992-09-19\n",
      "018\tE\t 1990-02-09\n",
      "101\tB\t 1995-08-23\n",
      "101\tE\t 1994-02-14\n",
      "121\tE\t 1999-12-06\n",
      "131\tB\t 1999-10-21\n",
      "141\tA\t 1993-01-11\n",
      "141\tB\t 1995-09-06\n",
      "151\tB\t 1991-10-01\n",
      "151\tC\t 1994-09-09\n",
      "151\tD\t 1990-10-10\n",
      "161\tE\t 1995-04-25\n",
      "181\tE\t 1993-12-27\n"
     ]
    }
   ],
   "source": [
    "## la salida de la función anterior es:\n",
    "!cat ./data.csv | ./mapper.py | sort"
   ]
  },
  {
   "cell_type": "code",
   "execution_count": 29,
   "metadata": {},
   "outputs": [
    {
     "name": "stdout",
     "output_type": "stream",
     "text": [
      "Overwriting reducer.py\n"
     ]
    }
   ],
   "source": [
    "%%writefile reducer.py\n",
    "#! /usr/bin/python3\n",
    "\n",
    "import sys\n",
    "## Esta funcion ordena los elementos\n",
    "\n",
    "if __name__ == '__main__':\n",
    "\n",
    "    ## cada linea de texto recibida es una entrada clave \\tabulador valor \n",
    "   \n",
    "    i=0\n",
    "    for line in sys.stdin:\n",
    "        line = line.strip()\n",
    "        splits = line.split(\"\\t\")\n",
    "        val, key, fecha = line.split(\"\\t\")\n",
    "        val = int(val) # le quita el cero al inicio a los valores de 1 y 2 cifras que tienen cero al principio\n",
    "        val = str(val)\n",
    "        if i<6:\n",
    "            print(key + '\\t' + fecha + '\\t' + val)\n",
    "            i=i+1"
   ]
  },
  {
   "cell_type": "code",
   "execution_count": 30,
   "metadata": {},
   "outputs": [],
   "source": [
    "## El archivo se hace ejecutable\n",
    "!chmod +x reducer.py"
   ]
  },
  {
   "cell_type": "code",
   "execution_count": 31,
   "metadata": {},
   "outputs": [
    {
     "name": "stdout",
     "output_type": "stream",
     "text": [
      "C\t 1994-07-27\t1\n",
      "C\t 1991-02-12\t2\n",
      "A\t 1990-07-22\t4\n",
      "A\t 1990-09-26\t5\n",
      "B\t 1997-04-09\t6\n",
      "E\t 1998-09-14\t7\n"
     ]
    }
   ],
   "source": [
    "## La función sort hace que todos los elementos con la misma clave queden en lineas consecutivas. Hace el papel del módulo Shuffle & Sort\n",
    "#!cat ./data.csv | ./mapper.py | sort -k1,1 -k3n,3 | ./reducer.py\n",
    "!cat ./data.csv | ./mapper.py | sort | ./reducer.py"
   ]
  }
 ],
 "metadata": {
  "kernelspec": {
   "display_name": "Python 3",
   "language": "python",
   "name": "python3"
  },
  "language_info": {
   "codemirror_mode": {
    "name": "ipython",
    "version": 3
   },
   "file_extension": ".py",
   "mimetype": "text/x-python",
   "name": "python",
   "nbconvert_exporter": "python",
   "pygments_lexer": "ipython3",
   "version": "3.6.8"
  }
 },
 "nbformat": 4,
 "nbformat_minor": 4
}
