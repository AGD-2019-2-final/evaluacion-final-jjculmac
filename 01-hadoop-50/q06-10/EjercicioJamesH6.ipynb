{
 "cells": [
  {
   "cell_type": "code",
   "execution_count": 103,
   "metadata": {},
   "outputs": [],
   "source": [
    "## Se crea el directorio de entrada\n",
    "!rm -rf input output\n",
    "!mkdir input"
   ]
  },
  {
   "cell_type": "code",
   "execution_count": 107,
   "metadata": {},
   "outputs": [
    {
     "name": "stdout",
     "output_type": "stream",
     "text": [
      "Overwriting mapper.py\n"
     ]
    }
   ],
   "source": [
    "%%writefile mapper.py\n",
    "#! /usr/bin/python3\n",
    "\n",
    "##\n",
    "## Esta es la funcion que mapea la entrada a parejas (clave, valor)\n",
    "##\n",
    "import sys\n",
    "if __name__ == \"__main__\":\n",
    "\n",
    "    ##\n",
    "    ## itera sobre cada linea de codigo recibida\n",
    "    ## a traves del flujo de entrada\n",
    "    ##\n",
    "    \n",
    "    for line in sys.stdin:\n",
    "        line = line.strip()\n",
    "        splits = line.split(\"  \")\n",
    "        print(splits[0] + '\\t' + splits[2])"
   ]
  },
  {
   "cell_type": "code",
   "execution_count": 108,
   "metadata": {},
   "outputs": [],
   "source": [
    "## El programa anterior se hace ejecutable\n",
    "!chmod +x mapper.py"
   ]
  },
  {
   "cell_type": "code",
   "execution_count": 109,
   "metadata": {},
   "outputs": [
    {
     "name": "stdout",
     "output_type": "stream",
     "text": [
      "B\t 14.1\n",
      "E\t 12.2\n",
      "E\t 17.0\n",
      "C\t 13.8\n",
      "E\t 16.9\n",
      "A\t 14.8\n",
      "B\t 12.1\n",
      "E\t 13.2\n",
      "E\t 11.3\n",
      "E\t 16.4\n",
      "E\t 10.5\n",
      "A\t 12.6\n",
      "A\t 10.7\n",
      "E\t 16.8\n",
      "E\t 16.9\n",
      "B\t 17.0\n",
      "A\t 13.6\n",
      "B\t 10.7\n",
      "B\t 13.8\n",
      "B\t 14.9\n",
      "E\t 18.4\n",
      "E\t 15.3\n",
      "A\t 18.2\n",
      "B\t 14.4\n",
      "B\t 13.5\n",
      "A\t 12.6\n",
      "C\t 10.7\n",
      "E\t 18.8\n",
      "A\t 14.9\n",
      "A\t 16.8\n",
      "B\t 14.7\n",
      "E\t 14.6\n",
      "A\t 14.5\n",
      "A\t 18.4\n",
      "C\t 15.3\n",
      "C\t 10.2\n",
      "D\t 15.1\n",
      "A\t 11.0\n",
      "B\t 15.0\n",
      "A\t 13.1\n"
     ]
    }
   ],
   "source": [
    "## la salida de la función anterior es:\n",
    "!cat ./data.csv | ./mapper.py"
   ]
  },
  {
   "cell_type": "code",
   "execution_count": 115,
   "metadata": {},
   "outputs": [
    {
     "name": "stdout",
     "output_type": "stream",
     "text": [
      "Overwriting reducer.py\n"
     ]
    }
   ],
   "source": [
    "%%writefile reducer.py\n",
    "#! /usr/bin/python3\n",
    "\n",
    "import sys\n",
    "\n",
    "## Esta funcion reduce los elementos que tienen la misma clave\n",
    "\n",
    "if __name__ == '__main__':\n",
    "\n",
    "    curkey = None\n",
    "    total = 0\n",
    "\n",
    "    ## cada linea de texto recibida es una entrada clave \\tabulador valor\n",
    "    \n",
    "    for line in sys.stdin:\n",
    "        key, val = line.split(\"\\t\")\n",
    "        val = float(val)\n",
    "                    \n",
    "        if key == curkey:\n",
    "\n",
    "            ## No se ha cambiado de clave. Aca se acumulan los valores para la misma clave.\n",
    "            if (val>maxi):\n",
    "                maxi=val\n",
    "            if (val<mini):\n",
    "                mini=val  \n",
    "        else:\n",
    "            ## Se cambio de clave. Se reinicia el acumulador.\n",
    "            if curkey is not None:                \n",
    "                ## una vez se han reducido todos los elementos con la misma clave se imprime el resultado en el flujo de salida\n",
    "                sys.stdout.write(\"{}\\t{}\\t{}\\n\".format(curkey, maxi, mini))\n",
    "\n",
    "            curkey = key\n",
    "            maxi=val\n",
    "            mini=val\n",
    "\n",
    "    sys.stdout.write(\"{}\\t{}\\t{}\\n\".format(curkey, maxi, mini))"
   ]
  },
  {
   "cell_type": "code",
   "execution_count": 116,
   "metadata": {},
   "outputs": [],
   "source": [
    "## El archivo se hace ejecutable\n",
    "!chmod +x reducer.py"
   ]
  },
  {
   "cell_type": "code",
   "execution_count": 118,
   "metadata": {},
   "outputs": [
    {
     "name": "stdout",
     "output_type": "stream",
     "text": [
      "A\t18.4\t10.7\n",
      "B\t17.0\t10.7\n",
      "C\t15.3\t10.2\n",
      "D\t15.1\t15.1\n",
      "E\t18.8\t10.5\n"
     ]
    }
   ],
   "source": [
    "##\n",
    "## La función sort hace que todos los elementos con\n",
    "## la misma clave queden en lineas consecutivas.\n",
    "## Hace el papel del módulo Shuffle & Sort\n",
    "##\n",
    "##!cat ./input/text*.txt | ./mapper.py | sort | ./reducer.py | head\n",
    "!cat ./data.csv | ./mapper.py | sort | ./reducer.py"
   ]
  }
 ],
 "metadata": {
  "kernelspec": {
   "display_name": "Python 3",
   "language": "python",
   "name": "python3"
  },
  "language_info": {
   "codemirror_mode": {
    "name": "ipython",
    "version": 3
   },
   "file_extension": ".py",
   "mimetype": "text/x-python",
   "name": "python",
   "nbconvert_exporter": "python",
   "pygments_lexer": "ipython3",
   "version": "3.6.8"
  }
 },
 "nbformat": 4,
 "nbformat_minor": 4
}
