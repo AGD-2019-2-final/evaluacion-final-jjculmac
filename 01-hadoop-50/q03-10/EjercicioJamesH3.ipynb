{
 "cells": [
  {
   "cell_type": "code",
   "execution_count": 628,
   "metadata": {},
   "outputs": [],
   "source": [
    "## Se crea el directorio de entrada\n",
    "##!rm -rf input output\n",
    "##!mkdir input"
   ]
  },
  {
   "cell_type": "code",
   "execution_count": 629,
   "metadata": {},
   "outputs": [],
   "source": [
    "##para encontrar el número de registros del archivo (aunque no se usa en lo solicitado)\n",
    "#r=0\n",
    "#a=!cat ./data.csv | wc -l\n",
    "#for i in a: \n",
    "#    #print(i, end=\"\")\n",
    "#    r=i\n",
    "#r=int(r)\n",
    "#print(\"Registros: \" , r)"
   ]
  },
  {
   "cell_type": "code",
   "execution_count": 630,
   "metadata": {},
   "outputs": [
    {
     "name": "stdout",
     "output_type": "stream",
     "text": [
      "Overwriting mapper.py\n"
     ]
    }
   ],
   "source": [
    "%%writefile mapper.py\n",
    "#! /usr/bin/python3\n",
    "\n",
    "## Esta es la funcion que mapea la entrada a parejas (clave, valor)\n",
    "import sys\n",
    "    \n",
    "if __name__ == \"__main__\":\n",
    "\n",
    "    ## itera sobre cada linea de codigo recibida a traves del flujo de entrada\n",
    "    for line in sys.stdin:\n",
    "        line = line.strip()\n",
    "        splits = line.split(\",\")\n",
    "        columna1=splits[0]\n",
    "        columna2=splits[1]\n",
    "        print(columna2 + '\\t' + columna1) ## se invierte el orden de las columnas para poder ordenarlo antes por la segunda columna antes de aplicar el reducer"
   ]
  },
  {
   "cell_type": "code",
   "execution_count": 631,
   "metadata": {},
   "outputs": [],
   "source": [
    "## El programa anterior se hace ejecutable\n",
    "!chmod +x mapper.py"
   ]
  },
  {
   "cell_type": "code",
   "execution_count": 5,
   "metadata": {},
   "outputs": [
    {
     "name": "stdout",
     "output_type": "stream",
     "text": [
      "6\tb\n",
      "3\ta\n",
      "1\td\n",
      "2\tc\n",
      "4\te\n",
      "5\tf\n"
     ]
    }
   ],
   "source": [
    "## la salida de la función anterior es:\n",
    "##!cat ./data.csv | ./mapper.py | sort\n",
    "!cat ./data.csv | ./mapper.py"
   ]
  },
  {
   "cell_type": "code",
   "execution_count": 6,
   "metadata": {},
   "outputs": [
    {
     "name": "stdout",
     "output_type": "stream",
     "text": [
      "Overwriting reducer.py\n"
     ]
    }
   ],
   "source": [
    "%%writefile reducer.py\n",
    "#! /usr/bin/python3\n",
    "\n",
    "import sys\n",
    "## Esta funcion ordena los elementos\n",
    "\n",
    "if __name__ == '__main__':\n",
    "    ## cada linea de texto recibida es una entrada clave \\tabulador valor \n",
    "        \n",
    "    for line in sys.stdin:\n",
    "        line = line.strip()\n",
    "        splits = line.split(\"\\t\")\n",
    "        valor, clave = line.split()\n",
    "        print(clave + ',' + valor)"
   ]
  },
  {
   "cell_type": "code",
   "execution_count": 7,
   "metadata": {},
   "outputs": [],
   "source": [
    "## El archivo se hace ejecutable\n",
    "!chmod +x reducer.py"
   ]
  },
  {
   "cell_type": "code",
   "execution_count": 8,
   "metadata": {},
   "outputs": [
    {
     "name": "stdout",
     "output_type": "stream",
     "text": [
      "d,1\n",
      "c,2\n",
      "a,3\n",
      "e,4\n",
      "f,5\n",
      "b,6\n"
     ]
    }
   ],
   "source": [
    "## La función sort hace que todos los elementos con la misma clave queden en lineas consecutivas. Hace el papel del módulo Shuffle & Sort\n",
    "##!cat ./input/text*.txt | ./mapper.py | sort | ./reducer.py | head\n",
    "!cat ./data.csv | ./mapper.py | sort | ./reducer.py"
   ]
  }
 ],
 "metadata": {
  "kernelspec": {
   "display_name": "Python 3",
   "language": "python",
   "name": "python3"
  },
  "language_info": {
   "codemirror_mode": {
    "name": "ipython",
    "version": 3
   },
   "file_extension": ".py",
   "mimetype": "text/x-python",
   "name": "python",
   "nbconvert_exporter": "python",
   "pygments_lexer": "ipython3",
   "version": "3.6.8"
  }
 },
 "nbformat": 4,
 "nbformat_minor": 4
}
