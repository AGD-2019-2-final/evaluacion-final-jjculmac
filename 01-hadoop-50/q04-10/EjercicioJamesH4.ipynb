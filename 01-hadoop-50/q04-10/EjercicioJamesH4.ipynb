{
 "cells": [
  {
   "cell_type": "code",
   "execution_count": 85,
   "metadata": {},
   "outputs": [],
   "source": [
    "## Se crea el directorio de entrada\n",
    "!rm -rf input output\n",
    "!mkdir input"
   ]
  },
  {
   "cell_type": "code",
   "execution_count": 86,
   "metadata": {},
   "outputs": [],
   "source": [
    "##cols = 'Name,JobTitle,AgencyID,Agency,HireDate,AnnualSalary,GrossPay'.split(',')"
   ]
  },
  {
   "cell_type": "code",
   "execution_count": 87,
   "metadata": {},
   "outputs": [],
   "source": [
    "##row = dict(zip(cols, [ a.strip() for a in csv.reader([line]).next()]))\n",
    "##row = dict(zip(cols, [ a.strip() for a in credit.csv]))\n",
    "##yield 'credit_history', (float(row['credit_history'][1:]), line)"
   ]
  },
  {
   "cell_type": "code",
   "execution_count": 88,
   "metadata": {},
   "outputs": [
    {
     "name": "stdout",
     "output_type": "stream",
     "text": [
      "Overwriting mapper.py\n"
     ]
    }
   ],
   "source": [
    "%%writefile mapper.py\n",
    "#! /usr/bin/python3\n",
    "\n",
    "##\n",
    "## Esta es la funcion que mapea la entrada a parejas (clave, valor)\n",
    "##\n",
    "import sys\n",
    "if __name__ == \"__main__\":\n",
    "\n",
    "    ##\n",
    "    ## itera sobre cada linea de codigo recibida\n",
    "    ## a traves del flujo de entrada\n",
    "    ##\n",
    "    \n",
    "    for line in sys.stdin:\n",
    "        line = line.strip()\n",
    "        splits = line.split(\" \")\n",
    "        ##print(line)\n",
    "        print(splits[0] + \"\\t1\")\n",
    "        \n",
    "        ##\n",
    "        ## genera las tuplas palabra \\tabulador 1\n",
    "        ## ya que es un conteo de palabras\n",
    "        ##\n",
    "        ##sys.stdout.write(\"{}\\t1\\n\".format(splits[0]))"
   ]
  },
  {
   "cell_type": "code",
   "execution_count": 89,
   "metadata": {},
   "outputs": [],
   "source": [
    "## El programa anterior se hace ejecutable\n",
    "!chmod +x mapper.py"
   ]
  },
  {
   "cell_type": "code",
   "execution_count": 90,
   "metadata": {},
   "outputs": [
    {
     "name": "stdout",
     "output_type": "stream",
     "text": [
      "B\t1\n",
      "E\t1\n",
      "E\t1\n",
      "C\t1\n",
      "E\t1\n",
      "A\t1\n",
      "B\t1\n",
      "E\t1\n",
      "E\t1\n",
      "E\t1\n",
      "E\t1\n",
      "A\t1\n",
      "A\t1\n",
      "E\t1\n",
      "E\t1\n",
      "B\t1\n",
      "A\t1\n",
      "B\t1\n",
      "B\t1\n",
      "B\t1\n",
      "E\t1\n",
      "E\t1\n",
      "A\t1\n",
      "B\t1\n",
      "B\t1\n",
      "A\t1\n",
      "C\t1\n",
      "E\t1\n",
      "A\t1\n",
      "A\t1\n",
      "B\t1\n",
      "E\t1\n",
      "A\t1\n",
      "A\t1\n",
      "C\t1\n",
      "C\t1\n",
      "D\t1\n",
      "A\t1\n",
      "B\t1\n",
      "A\t1\n"
     ]
    }
   ],
   "source": [
    "## la salida de la función anterior es:\n",
    "!cat ./data.csv | ./mapper.py"
   ]
  },
  {
   "cell_type": "code",
   "execution_count": 91,
   "metadata": {},
   "outputs": [
    {
     "name": "stdout",
     "output_type": "stream",
     "text": [
      "Overwriting reducer.py\n"
     ]
    }
   ],
   "source": [
    "%%writefile reducer.py\n",
    "#! /usr/bin/python3\n",
    "\n",
    "import sys\n",
    "\n",
    "##\n",
    "## Esta funcion reduce los elementos que\n",
    "## tienen la misma clave\n",
    "##\n",
    "\n",
    "if __name__ == '__main__':\n",
    "\n",
    "    curkey = None\n",
    "    total = 0\n",
    "\n",
    "    ##\n",
    "    ## cada linea de texto recibida es una\n",
    "    ## entrada clave \\tabulador valor\n",
    "    ##\n",
    "    for line in sys.stdin:\n",
    "\n",
    "        line = line.strip()\n",
    "        key, val = line.split(\"\\t\")\n",
    "        val = int(val)\n",
    "        \n",
    "        \n",
    "        if key == curkey:\n",
    "            ##\n",
    "            ## No se ha cambiado de clave. Aca se\n",
    "            ## acumulan los valores para la misma clave.\n",
    "            ##\n",
    "            total += val\n",
    "        else:\n",
    "            ##\n",
    "            ## Se cambio de clave. Se reinicia el\n",
    "            ## acumulador.\n",
    "            ##\n",
    "            if curkey is not None:\n",
    "                ##\n",
    "                ## una vez se han reducido todos los elementos\n",
    "                ## con la misma clave se imprime el resultado en\n",
    "                ## el flujo de salida\n",
    "                ##\n",
    "                ##sys.stdout.write(\"{}\\t{}\\n\".format(curkey, total))\n",
    "                sys.stdout.write(\"{},{}\\n\".format(curkey, total))\n",
    "\n",
    "            curkey = key\n",
    "            total = val\n",
    "\n",
    "    sys.stdout.write(\"{},{}\\n\".format(curkey, total))"
   ]
  },
  {
   "cell_type": "code",
   "execution_count": 92,
   "metadata": {},
   "outputs": [],
   "source": [
    "## El archivo se hace ejecutable\n",
    "!chmod +x reducer.py"
   ]
  },
  {
   "cell_type": "code",
   "execution_count": 93,
   "metadata": {},
   "outputs": [
    {
     "name": "stdout",
     "output_type": "stream",
     "text": [
      "A,12\n",
      "B,10\n",
      "C,4\n",
      "D,1\n",
      "E,13\n"
     ]
    }
   ],
   "source": [
    "##\n",
    "## La función sort hace que todos los elementos con\n",
    "## la misma clave queden en lineas consecutivas.\n",
    "## Hace el papel del módulo Shuffle & Sort\n",
    "##\n",
    "##!cat ./input/text*.txt | ./mapper.py | sort | ./reducer.py | head\n",
    "!cat ./data.csv | ./mapper.py | sort | ./reducer.py"
   ]
  }
 ],
 "metadata": {
  "kernelspec": {
   "display_name": "Python 3",
   "language": "python",
   "name": "python3"
  },
  "language_info": {
   "codemirror_mode": {
    "name": "ipython",
    "version": 3
   },
   "file_extension": ".py",
   "mimetype": "text/x-python",
   "name": "python",
   "nbconvert_exporter": "python",
   "pygments_lexer": "ipython3",
   "version": "3.6.8"
  }
 },
 "nbformat": 4,
 "nbformat_minor": 4
}
