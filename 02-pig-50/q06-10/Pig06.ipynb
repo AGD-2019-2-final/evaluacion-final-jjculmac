{
 "cells": [
  {
   "cell_type": "code",
   "execution_count": 1,
   "metadata": {},
   "outputs": [],
   "source": [
    "%load_ext bigdata"
   ]
  },
  {
   "cell_type": "code",
   "execution_count": 2,
   "metadata": {},
   "outputs": [],
   "source": [
    "%pig_start"
   ]
  },
  {
   "cell_type": "code",
   "execution_count": 3,
   "metadata": {},
   "outputs": [],
   "source": [
    "%timeout 300"
   ]
  },
  {
   "cell_type": "code",
   "execution_count": 28,
   "metadata": {},
   "outputs": [],
   "source": [
    "## Se crea el directorio de entrada\n",
    "##!rm -rf input output\n",
    "##!mkdir input\n",
    "##!rm -rf output\n",
    "##!mkdir output"
   ]
  },
  {
   "cell_type": "code",
   "execution_count": 4,
   "metadata": {},
   "outputs": [
    {
     "name": "stdout",
     "output_type": "stream",
     "text": [
      "Found 1 items\n",
      "-rw-r--r--   1 root supergroup       1741 2020-01-26 21:29 data.tsv\n"
     ]
    }
   ],
   "source": [
    "##!hadoop fs -put *.csv .\n",
    "!hadoop fs -put data.tsv\n",
    "!hadoop fs -ls"
   ]
  },
  {
   "cell_type": "code",
   "execution_count": 12,
   "metadata": {},
   "outputs": [
    {
     "name": "stdout",
     "output_type": "stream",
     "text": [
      " u = LOAD 'data.tsv'\n",
      "    AS (f1:CHARARRAY, f2:bag{t:tuple(p:CHARARRAY)}, f3:MAP[]);\n",
      " r = FOREACH u GENERATE FLATTEN(f3) as p;\n",
      " y = FOREACH r GENERATE FLATTEN(p) as s;\n",
      " C = group y by s;\n",
      " D = FOREACH C GENERATE group,, COUNT(y.s);\n",
      "2020-01-26 22:05:11,166 [main] ERROR org.apache.pig.tools.grunt.Grunt - ERROR 1200: <line 44, column 29>  Syntax error, unexpected symbol at or near ','\n",
      "Details at logfile: /datalake/evaluacion-final-jjculmac-master/02-pig-50/q06-10/pig_1580074135210.log\n",
      " DUMP D\n",
      "2020-01-26 22:05:11,537 [main] INFO  org.apache.hadoop.yarn.client.RMProxy - Connecting to ResourceManager at /0.0.0.0:8032\n",
      "2020-01-26 22:05:11,931 [JobControl] INFO  org.apache.hadoop.yarn.client.RMProxy - Connecting to ResourceManager at /0.0.0.0:8032\n",
      "2020-01-26 22:05:11,953 [JobControl] WARN  org.apache.hadoop.mapreduce.JobResourceUploader - No job jar file set.  User classes may not be found. See Job or Job#setJar(String).\n",
      "2020-01-26 22:05:11,964 [JobControl] INFO  org.apache.hadoop.mapreduce.lib.input.FileInputFormat - Total input files to process : 1\n",
      "2020-01-26 22:05:12,039 [JobControl] INFO  org.apache.hadoop.mapreduce.JobSubmitter - number of splits:1\n",
      "2020-01-26 22:05:12,081 [JobControl] INFO  org.apache.hadoop.mapreduce.JobSubmitter - Submitting tokens for job: job_1580074001408_0016\n",
      "2020-01-26 22:05:12,086 [JobControl] INFO  org.apache.hadoop.mapred.YARNRunner - Job jar is not present. Not adding any jar to the list of resources.\n",
      "2020-01-26 22:05:12,113 [JobControl] INFO  org.apache.hadoop.yarn.client.api.impl.YarnClientImpl - Submitted application application_1580074001408_0016\n",
      "2020-01-26 22:05:12,117 [JobControl] INFO  org.apache.hadoop.mapreduce.Job - The url to track the job: http://5681936b8dba:8088/proxy/application_1580074001408_0016/\n",
      "2020-01-26 22:05:47,180 [main] INFO  org.apache.hadoop.yarn.client.RMProxy - Connecting to ResourceManager at /0.0.0.0:8032\n",
      "2020-01-26 22:05:47,200 [main] INFO  org.apache.hadoop.mapred.ClientServiceDelegate - Application state is completed. FinalApplicationStatus=SUCCEEDED. Redirecting to job history server\n",
      "2020-01-26 22:05:47,362 [main] INFO  org.apache.hadoop.yarn.client.RMProxy - Connecting to ResourceManager at /0.0.0.0:8032\n",
      "2020-01-26 22:05:47,368 [main] INFO  org.apache.hadoop.mapred.ClientServiceDelegate - Application state is completed. FinalApplicationStatus=SUCCEEDED. Redirecting to job history server\n",
      "2020-01-26 22:05:47,422 [main] INFO  org.apache.hadoop.yarn.client.RMProxy - Connecting to ResourceManager at /0.0.0.0:8032\n",
      "2020-01-26 22:05:47,428 [main] INFO  org.apache.hadoop.mapred.ClientServiceDelegate - Application state is completed. FinalApplicationStatus=SUCCEEDED. Redirecting to job history server\n",
      "2020-01-26 22:05:47,473 [main] INFO  org.apache.hadoop.yarn.client.RMProxy - Connecting to ResourceManager at /0.0.0.0:8032\n",
      "2020-01-26 22:05:47,481 [main] INFO  org.apache.hadoop.mapred.ClientServiceDelegate - Application state is completed. FinalApplicationStatus=SUCCEEDED. Redirecting to job history server\n",
      "2020-01-26 22:05:47,536 [main] INFO  org.apache.hadoop.yarn.client.RMProxy - Connecting to ResourceManager at /0.0.0.0:8032\n",
      "2020-01-26 22:05:47,543 [main] INFO  org.apache.hadoop.mapred.ClientServiceDelegate - Application state is completed. FinalApplicationStatus=SUCCEEDED. Redirecting to job history server\n",
      "2020-01-26 22:05:47,594 [main] INFO  org.apache.hadoop.yarn.client.RMProxy - Connecting to ResourceManager at /0.0.0.0:8032\n",
      "2020-01-26 22:05:47,598 [main] INFO  org.apache.hadoop.mapred.ClientServiceDelegate - Application state is completed. FinalApplicationStatus=SUCCEEDED. Redirecting to job history server\n",
      "2020-01-26 22:05:47,681 [main] INFO  org.apache.hadoop.mapreduce.lib.input.FileInputFormat - Total input files to process : 1\n",
      "(aaa,(;),13)\n",
      "(bbb,(;),16)\n",
      "(ccc,(;),23)\n",
      "(ddd,(;),23)\n",
      "(eee,(;),15)\n",
      "(fff,(;),20)\n",
      "(ggg,(;),13)\n",
      "(hhh,(;),16)\n",
      "(iii,(;),18)\n",
      "(jjj,(;),18)\n",
      "MAP[]);LOAD 'data.tsv' AS (f1:CHARARRAY, f2:bag{t:tuple(p:CHARARRAY)}, f3: \n",
      " --B = FOREACH u GENERATE FLATTEN(f2.p) as position;\n",
      " --C = group B by position;\n",
      " --D = FOREACH C GENERATE group, COUNT(B.position);\n"
     ]
    }
   ],
   "source": [
    "%%pig\n",
    "u = LOAD 'data.tsv'\n",
    "    AS (f1:CHARARRAY, f2:bag{t:tuple(p:CHARARRAY)}, f3:MAP[]);\n",
    "r = FOREACH u GENERATE FLATTEN(f3) as p;\n",
    "y = FOREACH r GENERATE FLATTEN(p) as s;\n",
    "C = group y by s;\n",
    "D = FOREACH C GENERATE group,COUNT(y.s);\n",
    "DUMP D\n",
    "\n",
    "--STORE D INTO 'output' USING PigStorage(',');"
   ]
  },
  {
   "cell_type": "code",
   "execution_count": null,
   "metadata": {},
   "outputs": [],
   "source": [
    "--u = LOAD 'data.tsv' AS (f1:CHARARRAY, f2:bag{t:tuple(p:CHARARRAY)}, f3:MAP[]);\n",
    "--B = FOREACH u GENERATE FLATTEN(f2.p) as position;\n",
    "--C = group B by position;\n",
    "--D = FOREACH C GENERATE group, COUNT(B.position);\n",
    "\n",
    "\n",
    "/* Map types are declared*/\n",
    "a = load '1.txt' as(map[int]); --Map value is int\n",
    "b = foreach a generate (map[(i:int)])a0; -- Map value is tuple\n",
    "b = stream a through `cat` as (m:map[{(i:int,j:chararray)}]); -- Map value is bag\n",
    "\n",
    "/* The MapLookup of a typed map will result in a datatype of the map value */\n",
    "a = load '1.txt' as(map[int]);\n",
    "b = foreach a generate $0#'key';\n",
    "\n",
    "/* Schema for b */\n",
    "b: {int}\n"
   ]
  },
  {
   "cell_type": "code",
   "execution_count": 23,
   "metadata": {},
   "outputs": [
    {
     "name": "stdout",
     "output_type": "stream",
     "text": [
      "P[]);LOAD 'data.tsv' AS (f1:CHARARRAY, f2:bag{t:tuple(p:CHARARRAY)}, f3:MA \n",
      " B = FOREACH u GENERATE FLATTEN(f2.p) as position;\n",
      " C = group B by position;\n",
      " D = FOREACH C GENERATE group, COUNT(B.position);\n",
      " DUMP D;\n",
      "2020-01-21 03:24:23,424 [main] INFO  org.apache.hadoop.yarn.client.RMProxy - Connecting to ResourceManager at /0.0.0.0:8032\n",
      "2020-01-21 03:24:24,880 [JobControl] INFO  org.apache.hadoop.yarn.client.RMProxy - Connecting to ResourceManager at /0.0.0.0:8032\n",
      "2020-01-21 03:24:24,896 [JobControl] WARN  org.apache.hadoop.mapreduce.JobResourceUploader - No job jar file set.  User classes may not be found. See Job or Job#setJar(String).\n",
      "2020-01-21 03:24:24,911 [JobControl] INFO  org.apache.hadoop.mapreduce.lib.input.FileInputFormat - Total input files to process : 1\n",
      "2020-01-21 03:24:24,964 [JobControl] INFO  org.apache.hadoop.mapreduce.JobSubmitter - number of splits:1\n",
      "2020-01-21 03:24:25,016 [JobControl] INFO  org.apache.hadoop.mapreduce.JobSubmitter - Submitting tokens for job: job_1579574723846_0018\n",
      "2020-01-21 03:24:25,021 [JobControl] INFO  org.apache.hadoop.mapred.YARNRunner - Job jar is not present. Not adding any jar to the list of resources.\n",
      "2020-01-21 03:24:25,054 [JobControl] INFO  org.apache.hadoop.yarn.client.api.impl.YarnClientImpl - Submitted application application_1579574723846_0018\n",
      "2020-01-21 03:24:25,059 [JobControl] INFO  org.apache.hadoop.mapreduce.Job - The url to track the job: http://a4754a83d720:8088/proxy/application_1579574723846_0018/\n",
      "2020-01-21 03:25:00,124 [main] INFO  org.apache.hadoop.yarn.client.RMProxy - Connecting to ResourceManager at /0.0.0.0:8032\n",
      "2020-01-21 03:25:00,137 [main] INFO  org.apache.hadoop.mapred.ClientServiceDelegate - Application state is completed. FinalApplicationStatus=SUCCEEDED. Redirecting to job history server\n",
      "2020-01-21 03:25:00,261 [main] INFO  org.apache.hadoop.yarn.client.RMProxy - Connecting to ResourceManager at /0.0.0.0:8032\n",
      "2020-01-21 03:25:00,265 [main] INFO  org.apache.hadoop.mapred.ClientServiceDelegate - Application state is completed. FinalApplicationStatus=SUCCEEDED. Redirecting to job history server\n",
      "2020-01-21 03:25:00,309 [main] INFO  org.apache.hadoop.yarn.client.RMProxy - Connecting to ResourceManager at /0.0.0.0:8032\n",
      "2020-01-21 03:25:00,312 [main] INFO  org.apache.hadoop.mapred.ClientServiceDelegate - Application state is completed. FinalApplicationStatus=SUCCEEDED. Redirecting to job history server\n",
      "2020-01-21 03:25:00,362 [main] INFO  org.apache.hadoop.yarn.client.RMProxy - Connecting to ResourceManager at /0.0.0.0:8032\n",
      "2020-01-21 03:25:00,375 [main] INFO  org.apache.hadoop.mapred.ClientServiceDelegate - Application state is completed. FinalApplicationStatus=SUCCEEDED. Redirecting to job history server\n",
      "2020-01-21 03:25:00,429 [main] INFO  org.apache.hadoop.yarn.client.RMProxy - Connecting to ResourceManager at /0.0.0.0:8032\n",
      "2020-01-21 03:25:00,433 [main] INFO  org.apache.hadoop.mapred.ClientServiceDelegate - Application state is completed. FinalApplicationStatus=SUCCEEDED. Redirecting to job history server\n",
      "2020-01-21 03:25:00,477 [main] INFO  org.apache.hadoop.yarn.client.RMProxy - Connecting to ResourceManager at /0.0.0.0:8032\n",
      "2020-01-21 03:25:00,481 [main] INFO  org.apache.hadoop.mapred.ClientServiceDelegate - Application state is completed. FinalApplicationStatus=SUCCEEDED. Redirecting to job history server\n",
      "2020-01-21 03:25:00,540 [main] INFO  org.apache.hadoop.mapreduce.lib.input.FileInputFormat - Total input files to process : 1\n",
      "(a,22)\n",
      "(b,12)\n",
      "(c,17)\n",
      "(d,13)\n",
      "(e,15)\n",
      "(f,25)\n",
      "(g,9)\n",
      " STORE D INTO 'output';\n",
      "2020-01-21 03:25:01,099 [main] INFO  org.apache.hadoop.yarn.client.RMProxy - Connecting to ResourceManager at /0.0.0.0:8032\n",
      "2020-01-21 03:25:01,281 [JobControl] INFO  org.apache.hadoop.yarn.client.RMProxy - Connecting to ResourceManager at /0.0.0.0:8032\n",
      "2020-01-21 03:25:01,301 [JobControl] WARN  org.apache.hadoop.mapreduce.JobResourceUploader - No job jar file set.  User classes may not be found. See Job or Job#setJar(String).\n",
      "2020-01-21 03:25:01,315 [JobControl] INFO  org.apache.hadoop.mapreduce.lib.input.FileInputFormat - Total input files to process : 1\n",
      "2020-01-21 03:25:01,348 [JobControl] INFO  org.apache.hadoop.mapreduce.JobSubmitter - number of splits:1\n",
      "2020-01-21 03:25:01,380 [JobControl] INFO  org.apache.hadoop.mapreduce.JobSubmitter - Submitting tokens for job: job_1579574723846_0019\n",
      "2020-01-21 03:25:01,387 [JobControl] INFO  org.apache.hadoop.mapred.YARNRunner - Job jar is not present. Not adding any jar to the list of resources.\n",
      "2020-01-21 03:25:01,415 [JobControl] INFO  org.apache.hadoop.yarn.client.api.impl.YarnClientImpl - Submitted application application_1579574723846_0019\n",
      "2020-01-21 03:25:01,423 [JobControl] INFO  org.apache.hadoop.mapreduce.Job - The url to track the job: http://a4754a83d720:8088/proxy/application_1579574723846_0019/\n",
      "2020-01-21 03:25:41,754 [main] INFO  org.apache.hadoop.yarn.client.RMProxy - Connecting to ResourceManager at /0.0.0.0:8032\n",
      "2020-01-21 03:25:41,770 [main] INFO  org.apache.hadoop.mapred.ClientServiceDelegate - Application state is completed. FinalApplicationStatus=SUCCEEDED. Redirecting to job history server\n",
      "2020-01-21 03:25:42,056 [main] INFO  org.apache.hadoop.yarn.client.RMProxy - Connecting to ResourceManager at /0.0.0.0:8032\n",
      "2020-01-21 03:25:42,062 [main] INFO  org.apache.hadoop.mapred.ClientServiceDelegate - Application state is completed. FinalApplicationStatus=SUCCEEDED. Redirecting to job history server\n",
      "2020-01-21 03:25:42,106 [main] INFO  org.apache.hadoop.yarn.client.RMProxy - Connecting to ResourceManager at /0.0.0.0:8032\n",
      "2020-01-21 03:25:42,110 [main] INFO  org.apache.hadoop.mapred.ClientServiceDelegate - Application state is completed. FinalApplicationStatus=SUCCEEDED. Redirecting to job history server\n",
      "2020-01-21 03:25:42,153 [main] INFO  org.apache.hadoop.yarn.client.RMProxy - Connecting to ResourceManager at /0.0.0.0:8032\n",
      "2020-01-21 03:25:42,157 [main] INFO  org.apache.hadoop.mapred.ClientServiceDelegate - Application state is completed. FinalApplicationStatus=SUCCEEDED. Redirecting to job history server\n",
      "2020-01-21 03:25:42,206 [main] INFO  org.apache.hadoop.yarn.client.RMProxy - Connecting to ResourceManager at /0.0.0.0:8032\n",
      "2020-01-21 03:25:42,213 [main] INFO  org.apache.hadoop.mapred.ClientServiceDelegate - Application state is completed. FinalApplicationStatus=SUCCEEDED. Redirecting to job history server\n",
      "2020-01-21 03:25:42,246 [main] INFO  org.apache.hadoop.yarn.client.RMProxy - Connecting to ResourceManager at /0.0.0.0:8032\n",
      "2020-01-21 03:25:42,263 [main] INFO  org.apache.hadoop.mapred.ClientServiceDelegate - Application state is completed. FinalApplicationStatus=SUCCEEDED. Redirecting to job history server\n",
      " fs -get output/ .;\n"
     ]
    }
   ],
   "source": [
    "%%pig\n",
    "u = LOAD 'data.tsv' AS (f1:CHARARRAY, f2:bag{t:tuple(p:CHARARRAY)}, f3:MAP[]);\n",
    "B = FOREACH u GENERATE FLATTEN(f3) as position;\n",
    "C = FOREACH B GENERATE B.$0;\n",
    "DUMP C;\n",
    "\n",
    "\n",
    "u = LOAD 'data.tsv' AS (f1:CHARARRAY, f2:bag{t:tuple(p:CHARARRAY)}, f3:MAP[]);\n",
    "B = FOREACH u GENERATE FLATTEN(f2.p) as position;\n",
    "C = group B by position;\n",
    "D = FOREACH C GENERATE group, COUNT(B.position);\n",
    "DUMP D;\n",
    "STORE D INTO 'output';\n",
    "fs -get output/ .;"
   ]
  },
  {
   "cell_type": "code",
   "execution_count": 1,
   "metadata": {},
   "outputs": [
    {
     "name": "stderr",
     "output_type": "stream",
     "text": [
      "UsageError: Line magic function `%pig_quit` not found.\n"
     ]
    }
   ],
   "source": [
    "%pig_quit"
   ]
  }
 ],
 "metadata": {
  "kernelspec": {
   "display_name": "Python 3",
   "language": "python",
   "name": "python3"
  },
  "language_info": {
   "codemirror_mode": {
    "name": "ipython",
    "version": 3
   },
   "file_extension": ".py",
   "mimetype": "text/x-python",
   "name": "python",
   "nbconvert_exporter": "python",
   "pygments_lexer": "ipython3",
   "version": "3.6.8"
  }
 },
 "nbformat": 4,
 "nbformat_minor": 4
}
